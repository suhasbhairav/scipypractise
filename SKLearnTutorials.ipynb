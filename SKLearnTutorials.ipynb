{
  "nbformat": 4,
  "nbformat_minor": 0,
  "metadata": {
    "colab": {
      "name": "SKLearnTutorials.ipynb",
      "provenance": [],
      "authorship_tag": "ABX9TyO891IA7QAYk7sKQdUoZONO"
    },
    "kernelspec": {
      "name": "python3",
      "display_name": "Python 3"
    },
    "language_info": {
      "name": "python"
    }
  },
  "cells": [
    {
      "cell_type": "code",
      "metadata": {
        "id": "zNb7YqlbltyX"
      },
      "source": [
        "import sklearn"
      ],
      "execution_count": 2,
      "outputs": []
    },
    {
      "cell_type": "code",
      "metadata": {
        "id": "4q6MjosLoa6s"
      },
      "source": [
        "from sklearn.datasets import make_blobs"
      ],
      "execution_count": 3,
      "outputs": []
    },
    {
      "cell_type": "code",
      "metadata": {
        "id": "Hpa0lFDUogYn"
      },
      "source": [
        "X, y = make_blobs(n_samples=1000, centers=20, random_state=123)"
      ],
      "execution_count": 4,
      "outputs": []
    },
    {
      "cell_type": "code",
      "metadata": {
        "id": "ofFfWZiConEE"
      },
      "source": [
        "labels = [\"b\", \"r\"]"
      ],
      "execution_count": 5,
      "outputs": []
    },
    {
      "cell_type": "code",
      "metadata": {
        "colab": {
          "base_uri": "https://localhost:8080/"
        },
        "id": "ARQX9txZoqU2",
        "outputId": "45ba588c-7ced-441f-adb8-e9cfd4504845"
      },
      "source": [
        "y"
      ],
      "execution_count": 6,
      "outputs": [
        {
          "output_type": "execute_result",
          "data": {
            "text/plain": [
              "array([ 8,  9, 16,  5, 12,  5,  6,  2,  2,  7,  5,  3, 11, 18,  6,  1,  3,\n",
              "        3, 18, 19,  2, 18,  0,  9,  9,  2,  4,  4, 18,  7, 18, 13, 11, 11,\n",
              "       14,  1, 19, 15, 12, 10, 19,  0,  9, 10, 16,  4,  3,  2, 13,  6,  5,\n",
              "        9,  9,  4,  9,  8,  1, 11,  3,  2,  2, 12, 18,  2,  4,  6,  0, 17,\n",
              "       13,  7,  7, 17,  2, 19,  8, 18,  0,  7,  5, 16,  1, 12, 10, 17, 15,\n",
              "       18, 14,  7,  0, 17, 10,  7, 15,  8,  2,  6,  7, 14, 19,  7,  3, 11,\n",
              "       14,  7,  9, 10,  0,  0, 11,  5, 10, 11, 18,  0,  0,  7, 18, 13, 10,\n",
              "        4,  1,  3, 14, 13,  0, 14,  2,  4,  8,  4, 12, 12,  4, 17,  4, 16,\n",
              "       19,  1,  1,  6,  6,  5,  4, 19,  3,  1, 19,  6, 18,  3,  5, 10,  0,\n",
              "        2, 19,  1, 10,  1,  8, 11, 11,  8, 11, 17, 17, 15, 11, 13,  3,  5,\n",
              "       19,  3,  7,  5,  9, 18, 11, 13,  4, 15, 18,  7, 15, 12, 17,  1,  2,\n",
              "        7, 19, 14, 15, 15,  8,  9,  0, 13,  6,  7, 11, 18, 11, 19, 11,  9,\n",
              "        9,  3, 17, 19, 16, 10, 17, 11, 16, 18,  0, 16,  2, 14, 15, 14, 15,\n",
              "        2,  0, 12, 19, 19,  3,  5,  8,  9, 13, 18,  2,  6,  9,  4, 18,  6,\n",
              "        7,  0,  5, 11, 12,  3,  8,  3,  9, 11, 14,  1,  9, 11,  7, 19, 19,\n",
              "       10, 18,  7,  6,  5,  5, 14,  5,  7, 13,  7,  1,  5,  6,  4, 12,  4,\n",
              "        4, 11,  7, 18, 12,  3,  5,  2, 17, 16,  4, 19,  9, 13,  8,  3,  6,\n",
              "       12, 18, 17, 17,  4, 16,  6,  2, 16,  6,  5,  8, 12, 17,  0, 13, 14,\n",
              "        8,  5, 12, 13, 15, 11,  4, 15, 16,  2, 12, 12,  1, 15,  6,  5,  3,\n",
              "       13, 18,  0, 12, 10, 13, 16,  6, 19,  6, 16,  2,  6,  4,  0, 12, 12,\n",
              "       17, 17, 11,  8, 18, 12, 14,  5, 14,  7,  5, 11,  0,  8,  9, 14,  2,\n",
              "       14, 10, 13,  2,  1,  0, 19,  1, 14, 17,  0,  1,  8, 16,  9, 13,  2,\n",
              "       16, 14,  7,  9,  6, 16, 11, 15,  8, 19, 19,  8, 11, 13,  4,  5, 19,\n",
              "       19,  0,  2,  8,  4,  5,  9, 14, 19,  7,  5, 12,  1, 13,  1, 18,  5,\n",
              "        2,  3,  7,  1, 18, 12,  8, 14,  9,  1,  0, 17,  4,  9, 12,  4,  3,\n",
              "        2, 12,  3,  9,  4,  9, 13,  5, 14,  1,  4, 19, 18, 10, 18, 12,  5,\n",
              "       10,  6, 16,  9,  7,  3,  3, 15,  8, 10, 10,  3, 16, 14,  5,  6,  6,\n",
              "        2, 14,  8, 13,  4,  7,  1, 17, 16,  8,  8,  0, 19, 16, 15, 18,  2,\n",
              "       14,  3,  4, 10, 14,  7, 11, 18,  8,  0,  3,  1, 10, 10, 12,  0, 15,\n",
              "       13, 19, 18, 10, 14, 12,  5, 14, 17, 11,  8, 10,  4, 11, 12, 18,  9,\n",
              "        1, 12, 14,  1,  2,  0,  7, 17, 16, 19,  5, 18,  1, 11, 15, 10,  6,\n",
              "        0, 15,  3,  0, 10, 15,  1, 15, 12,  3,  2, 13, 19,  3,  8, 19,  6,\n",
              "       10, 18,  3, 17, 16, 17,  8,  9, 16, 18, 17, 16, 12, 16,  4, 19, 10,\n",
              "        5,  3, 10, 13,  3,  8,  5, 15, 17,  6, 16,  0, 16, 14, 15, 15,  0,\n",
              "       13,  6, 15, 13,  2, 15,  8, 14, 11, 19, 17,  7, 13,  6,  9, 12,  8,\n",
              "        5,  8,  5,  1,  8,  8, 14,  3, 11, 17,  4, 19,  3, 14, 18, 15,  0,\n",
              "       19,  5, 19, 13, 18,  7,  1, 16, 14, 11, 11, 11, 12, 10, 11, 10,  7,\n",
              "       17,  0,  2,  8,  0,  1, 19, 12, 13,  2,  7, 16,  2, 12,  9,  1, 10,\n",
              "        4,  2,  8, 18, 17, 13,  6, 16,  5, 11, 10,  1,  1,  2, 10, 13, 14,\n",
              "       11,  0, 13, 14,  8, 16, 12, 14,  7, 15, 19, 11, 18, 13, 18, 14,  7,\n",
              "        3,  9, 13,  9,  1,  9, 13,  9,  5,  6,  1,  4, 11,  6, 19, 14,  9,\n",
              "       18, 18,  5,  5,  8,  4,  6,  7,  3,  0,  9, 10,  5, 16, 11,  3, 19,\n",
              "        2,  7, 15,  4, 16,  6, 16,  7, 15,  9,  1, 10, 10,  4, 11,  3,  7,\n",
              "        2,  1, 13, 17,  1,  2, 14,  0,  3, 15, 15,  4, 15, 14,  1,  1,  6,\n",
              "        0,  3, 13, 11, 17,  6, 14, 16,  1, 15, 16,  9, 13,  7,  3, 14,  3,\n",
              "       11, 14,  8, 10, 19,  1,  3,  0, 15,  3,  7, 18, 15, 13,  2,  8, 17,\n",
              "        9, 10, 17, 18, 16,  4,  4,  8, 14, 12, 17,  9, 15, 19, 13, 11,  9,\n",
              "       18, 17,  7,  6,  5,  0,  3, 17,  0,  6, 13, 12,  6, 12, 15, 16, 15,\n",
              "       12, 16,  9, 15,  1, 15,  7, 12, 12, 11, 10, 19,  4, 10, 13,  5,  6,\n",
              "        2, 15,  8, 10,  8,  1, 12,  1,  2,  3,  7,  7,  2, 10, 15, 19, 11,\n",
              "        4, 11,  6,  5,  6, 12,  6,  4, 10, 10, 17, 13,  7,  0,  4,  9,  7,\n",
              "       13,  6,  9, 12,  9, 18, 16,  6, 10, 13,  5, 17, 10,  4,  1, 13,  2,\n",
              "        2,  0,  4,  5, 17,  6,  0,  9, 15, 12,  6, 15,  4, 12, 19,  2, 16,\n",
              "       17, 11,  0,  3, 14,  6,  5, 13, 14,  4, 17, 17, 15, 11, 17,  8, 18,\n",
              "       11,  1, 19, 16,  8, 10,  0,  9, 10, 18, 17, 10, 16, 19,  4, 15, 12,\n",
              "       16,  8, 18,  0,  1, 14, 17, 15, 15,  6, 14, 16, 13,  8,  3,  7,  9,\n",
              "       12, 17, 16,  9,  0, 13,  7, 15, 16,  4,  8,  2,  2,  5, 18,  3,  6,\n",
              "       14,  9, 16,  2, 17,  0,  8,  7, 16,  5, 19, 14, 18, 17, 19, 10, 12,\n",
              "        0, 17, 19,  8,  5,  2, 13,  3,  1, 17, 16,  4, 18, 10])"
            ]
          },
          "metadata": {
            "tags": []
          },
          "execution_count": 6
        }
      ]
    },
    {
      "cell_type": "code",
      "metadata": {
        "id": "T6beXJHRouRv"
      },
      "source": [
        "import numpy as np\n",
        "import pandas as pd\n",
        "y = np.take(labels, (y<10))"
      ],
      "execution_count": 7,
      "outputs": []
    },
    {
      "cell_type": "code",
      "metadata": {
        "colab": {
          "base_uri": "https://localhost:8080/"
        },
        "id": "qWsRNXjKo1_8",
        "outputId": "741f58ce-2cc7-489b-f1bb-a712c4593f31"
      },
      "source": [
        "y"
      ],
      "execution_count": 8,
      "outputs": [
        {
          "output_type": "execute_result",
          "data": {
            "text/plain": [
              "array(['r', 'r', 'b', 'r', 'b', 'r', 'r', 'r', 'r', 'r', 'r', 'r', 'b',\n",
              "       'b', 'r', 'r', 'r', 'r', 'b', 'b', 'r', 'b', 'r', 'r', 'r', 'r',\n",
              "       'r', 'r', 'b', 'r', 'b', 'b', 'b', 'b', 'b', 'r', 'b', 'b', 'b',\n",
              "       'b', 'b', 'r', 'r', 'b', 'b', 'r', 'r', 'r', 'b', 'r', 'r', 'r',\n",
              "       'r', 'r', 'r', 'r', 'r', 'b', 'r', 'r', 'r', 'b', 'b', 'r', 'r',\n",
              "       'r', 'r', 'b', 'b', 'r', 'r', 'b', 'r', 'b', 'r', 'b', 'r', 'r',\n",
              "       'r', 'b', 'r', 'b', 'b', 'b', 'b', 'b', 'b', 'r', 'r', 'b', 'b',\n",
              "       'r', 'b', 'r', 'r', 'r', 'r', 'b', 'b', 'r', 'r', 'b', 'b', 'r',\n",
              "       'r', 'b', 'r', 'r', 'b', 'r', 'b', 'b', 'b', 'r', 'r', 'r', 'b',\n",
              "       'b', 'b', 'r', 'r', 'r', 'b', 'b', 'r', 'b', 'r', 'r', 'r', 'r',\n",
              "       'b', 'b', 'r', 'b', 'r', 'b', 'b', 'r', 'r', 'r', 'r', 'r', 'r',\n",
              "       'b', 'r', 'r', 'b', 'r', 'b', 'r', 'r', 'b', 'r', 'r', 'b', 'r',\n",
              "       'b', 'r', 'r', 'b', 'b', 'r', 'b', 'b', 'b', 'b', 'b', 'b', 'r',\n",
              "       'r', 'b', 'r', 'r', 'r', 'r', 'b', 'b', 'b', 'r', 'b', 'b', 'r',\n",
              "       'b', 'b', 'b', 'r', 'r', 'r', 'b', 'b', 'b', 'b', 'r', 'r', 'r',\n",
              "       'b', 'r', 'r', 'b', 'b', 'b', 'b', 'b', 'r', 'r', 'r', 'b', 'b',\n",
              "       'b', 'b', 'b', 'b', 'b', 'b', 'r', 'b', 'r', 'b', 'b', 'b', 'b',\n",
              "       'r', 'r', 'b', 'b', 'b', 'r', 'r', 'r', 'r', 'b', 'b', 'r', 'r',\n",
              "       'r', 'r', 'b', 'r', 'r', 'r', 'r', 'b', 'b', 'r', 'r', 'r', 'r',\n",
              "       'b', 'b', 'r', 'r', 'b', 'r', 'b', 'b', 'b', 'b', 'r', 'r', 'r',\n",
              "       'r', 'b', 'r', 'r', 'b', 'r', 'r', 'r', 'r', 'r', 'b', 'r', 'r',\n",
              "       'b', 'r', 'b', 'b', 'r', 'r', 'r', 'b', 'b', 'r', 'b', 'r', 'b',\n",
              "       'r', 'r', 'r', 'b', 'b', 'b', 'b', 'r', 'b', 'r', 'r', 'b', 'r',\n",
              "       'r', 'r', 'b', 'b', 'r', 'b', 'b', 'r', 'r', 'b', 'b', 'b', 'b',\n",
              "       'r', 'b', 'b', 'r', 'b', 'b', 'r', 'b', 'r', 'r', 'r', 'b', 'b',\n",
              "       'r', 'b', 'b', 'b', 'b', 'r', 'b', 'r', 'b', 'r', 'r', 'r', 'r',\n",
              "       'b', 'b', 'b', 'b', 'b', 'r', 'b', 'b', 'b', 'r', 'b', 'r', 'r',\n",
              "       'b', 'r', 'r', 'r', 'b', 'r', 'b', 'b', 'b', 'r', 'r', 'r', 'b',\n",
              "       'r', 'b', 'b', 'r', 'r', 'r', 'b', 'r', 'b', 'r', 'b', 'b', 'r',\n",
              "       'r', 'r', 'b', 'b', 'b', 'r', 'b', 'b', 'r', 'b', 'b', 'r', 'r',\n",
              "       'b', 'b', 'r', 'r', 'r', 'r', 'r', 'r', 'b', 'b', 'r', 'r', 'b',\n",
              "       'r', 'b', 'r', 'b', 'r', 'r', 'r', 'r', 'r', 'b', 'b', 'r', 'b',\n",
              "       'r', 'r', 'r', 'b', 'r', 'r', 'b', 'r', 'r', 'r', 'b', 'r', 'r',\n",
              "       'r', 'r', 'b', 'r', 'b', 'r', 'r', 'b', 'b', 'b', 'b', 'b', 'r',\n",
              "       'b', 'r', 'b', 'r', 'r', 'r', 'r', 'b', 'r', 'b', 'b', 'r', 'b',\n",
              "       'b', 'r', 'r', 'r', 'r', 'b', 'r', 'b', 'r', 'r', 'r', 'b', 'b',\n",
              "       'r', 'r', 'r', 'b', 'b', 'b', 'b', 'r', 'b', 'r', 'r', 'b', 'b',\n",
              "       'r', 'b', 'b', 'r', 'r', 'r', 'r', 'b', 'b', 'b', 'r', 'b', 'b',\n",
              "       'b', 'b', 'b', 'b', 'b', 'r', 'b', 'b', 'b', 'r', 'b', 'r', 'b',\n",
              "       'b', 'b', 'r', 'r', 'b', 'b', 'r', 'r', 'r', 'r', 'b', 'b', 'b',\n",
              "       'r', 'b', 'r', 'b', 'b', 'b', 'r', 'r', 'b', 'r', 'r', 'b', 'b',\n",
              "       'r', 'b', 'b', 'r', 'r', 'b', 'b', 'r', 'r', 'b', 'r', 'b', 'b',\n",
              "       'r', 'b', 'b', 'b', 'r', 'r', 'b', 'b', 'b', 'b', 'b', 'b', 'r',\n",
              "       'b', 'b', 'r', 'r', 'b', 'b', 'r', 'r', 'r', 'b', 'b', 'r', 'b',\n",
              "       'r', 'b', 'b', 'b', 'b', 'r', 'b', 'r', 'b', 'b', 'r', 'b', 'r',\n",
              "       'b', 'b', 'b', 'b', 'r', 'b', 'r', 'r', 'b', 'r', 'r', 'r', 'r',\n",
              "       'r', 'r', 'r', 'b', 'r', 'b', 'b', 'r', 'b', 'r', 'b', 'b', 'b',\n",
              "       'r', 'b', 'r', 'b', 'b', 'b', 'r', 'r', 'b', 'b', 'b', 'b', 'b',\n",
              "       'b', 'b', 'b', 'b', 'r', 'b', 'r', 'r', 'r', 'r', 'r', 'b', 'b',\n",
              "       'b', 'r', 'r', 'b', 'r', 'b', 'r', 'r', 'b', 'r', 'r', 'r', 'b',\n",
              "       'b', 'b', 'r', 'b', 'r', 'b', 'b', 'r', 'r', 'r', 'b', 'b', 'b',\n",
              "       'b', 'r', 'b', 'b', 'r', 'b', 'b', 'b', 'r', 'b', 'b', 'b', 'b',\n",
              "       'b', 'b', 'b', 'r', 'r', 'r', 'b', 'r', 'r', 'r', 'b', 'r', 'r',\n",
              "       'r', 'r', 'r', 'b', 'r', 'b', 'b', 'r', 'b', 'b', 'r', 'r', 'r',\n",
              "       'r', 'r', 'r', 'r', 'r', 'r', 'b', 'r', 'b', 'b', 'r', 'b', 'r',\n",
              "       'r', 'b', 'r', 'b', 'r', 'b', 'r', 'b', 'r', 'r', 'b', 'b', 'r',\n",
              "       'b', 'r', 'r', 'r', 'r', 'b', 'b', 'r', 'r', 'b', 'r', 'r', 'b',\n",
              "       'b', 'r', 'b', 'b', 'r', 'r', 'r', 'r', 'r', 'b', 'b', 'b', 'r',\n",
              "       'b', 'b', 'r', 'b', 'b', 'r', 'b', 'r', 'r', 'b', 'r', 'b', 'b',\n",
              "       'r', 'b', 'b', 'r', 'r', 'r', 'b', 'r', 'r', 'b', 'b', 'b', 'r',\n",
              "       'r', 'b', 'r', 'b', 'b', 'b', 'b', 'r', 'r', 'r', 'b', 'b', 'b',\n",
              "       'r', 'b', 'b', 'b', 'b', 'r', 'b', 'b', 'r', 'r', 'r', 'r', 'r',\n",
              "       'b', 'r', 'r', 'b', 'b', 'r', 'b', 'b', 'b', 'b', 'b', 'b', 'r',\n",
              "       'b', 'r', 'b', 'r', 'b', 'b', 'b', 'b', 'b', 'r', 'b', 'b', 'r',\n",
              "       'r', 'r', 'b', 'r', 'b', 'r', 'r', 'b', 'r', 'r', 'r', 'r', 'r',\n",
              "       'r', 'b', 'b', 'b', 'b', 'r', 'b', 'r', 'r', 'r', 'b', 'r', 'r',\n",
              "       'b', 'b', 'b', 'b', 'r', 'r', 'r', 'r', 'r', 'b', 'r', 'r', 'b',\n",
              "       'r', 'b', 'b', 'r', 'b', 'b', 'r', 'b', 'b', 'r', 'r', 'b', 'r',\n",
              "       'r', 'r', 'r', 'r', 'b', 'r', 'r', 'r', 'b', 'b', 'r', 'b', 'r',\n",
              "       'b', 'b', 'r', 'b', 'b', 'b', 'r', 'r', 'b', 'r', 'r', 'b', 'b',\n",
              "       'r', 'b', 'b', 'b', 'b', 'b', 'r', 'b', 'b', 'r', 'b', 'b', 'r',\n",
              "       'b', 'r', 'r', 'b', 'b', 'b', 'b', 'b', 'b', 'r', 'b', 'b', 'b',\n",
              "       'r', 'b', 'r', 'r', 'b', 'b', 'b', 'b', 'r', 'b', 'b', 'b', 'r',\n",
              "       'r', 'r', 'r', 'b', 'b', 'b', 'r', 'r', 'b', 'r', 'b', 'b', 'r',\n",
              "       'r', 'r', 'r', 'r', 'b', 'r', 'r', 'b', 'r', 'b', 'r', 'b', 'r',\n",
              "       'r', 'r', 'b', 'r', 'b', 'b', 'b', 'b', 'b', 'b', 'b', 'r', 'b',\n",
              "       'b', 'r', 'r', 'r', 'b', 'r', 'r', 'b', 'b', 'r', 'b', 'b'],\n",
              "      dtype='<U1')"
            ]
          },
          "metadata": {
            "tags": []
          },
          "execution_count": 8
        }
      ]
    },
    {
      "cell_type": "code",
      "metadata": {
        "colab": {
          "base_uri": "https://localhost:8080/"
        },
        "id": "_5wdYXVMo3BF",
        "outputId": "dc4b2f6e-737b-4ba0-bf36-8cbbaccfb3a9"
      },
      "source": [
        "print(X.shape)"
      ],
      "execution_count": 9,
      "outputs": [
        {
          "output_type": "stream",
          "text": [
            "(1000, 2)\n"
          ],
          "name": "stdout"
        }
      ]
    },
    {
      "cell_type": "code",
      "metadata": {
        "colab": {
          "base_uri": "https://localhost:8080/"
        },
        "id": "DVTk-Vo5o8Ez",
        "outputId": "028e0198-3477-409b-f0a7-6e42faca7baf"
      },
      "source": [
        "print(y.shape)"
      ],
      "execution_count": 10,
      "outputs": [
        {
          "output_type": "stream",
          "text": [
            "(1000,)\n"
          ],
          "name": "stdout"
        }
      ]
    },
    {
      "cell_type": "code",
      "metadata": {
        "colab": {
          "base_uri": "https://localhost:8080/"
        },
        "id": "Eg1E7T67o_DP",
        "outputId": "335d2b31-56f3-4ae7-f03f-b45ffdd04d9a"
      },
      "source": [
        "X[0]"
      ],
      "execution_count": 11,
      "outputs": [
        {
          "output_type": "execute_result",
          "data": {
            "text/plain": [
              "array([-6.45255647, -8.76358259])"
            ]
          },
          "metadata": {
            "tags": []
          },
          "execution_count": 11
        }
      ]
    },
    {
      "cell_type": "code",
      "metadata": {
        "id": "6jwWGgiRpAgu"
      },
      "source": [
        "import matplotlib.pyplot as plt\n",
        "%matplotlib inline"
      ],
      "execution_count": 12,
      "outputs": []
    },
    {
      "cell_type": "code",
      "metadata": {
        "colab": {
          "base_uri": "https://localhost:8080/",
          "height": 269
        },
        "id": "RiYkVvTLpGQd",
        "outputId": "bafe1b76-38b5-46d9-b4c3-f683eee7597c"
      },
      "source": [
        "plt.figure()\n",
        "for label in labels:\n",
        "  mask = (y == label)\n",
        "  plt.scatter(X[mask, 0], X[mask, 1], c=label)\n",
        "plt.xlim(-10, 10)\n",
        "plt.ylim(-10, 10)\n",
        "plt.show()"
      ],
      "execution_count": 13,
      "outputs": [
        {
          "output_type": "display_data",
          "data": {
            "image/png": "[encoded data removed]",
            "text/plain": [
              "<Figure size 432x288 with 1 Axes>"
            ]
          },
          "metadata": {
            "tags": [],
            "needs_background": "light"
          }
        }
      ]
    },
    {
      "cell_type": "code",
      "metadata": {
        "id": "4Bo68B5SphUe"
      },
      "source": [
        "from sklearn.neighbors import KNeighborsClassifier"
      ],
      "execution_count": 14,
      "outputs": []
    },
    {
      "cell_type": "code",
      "metadata": {
        "id": "_zZkfBC2pu2e"
      },
      "source": [
        "clf = KNeighborsClassifier(n_neighbors=5)"
      ],
      "execution_count": 15,
      "outputs": []
    },
    {
      "cell_type": "code",
      "metadata": {
        "colab": {
          "base_uri": "https://localhost:8080/"
        },
        "id": "VFO_8XytpzdO",
        "outputId": "4ff0489e-ebbc-4cba-b635-5f5e611edf4f"
      },
      "source": [
        "clf.fit(X, y)"
      ],
      "execution_count": 16,
      "outputs": [
        {
          "output_type": "execute_result",
          "data": {
            "text/plain": [
              "KNeighborsClassifier(algorithm='auto', leaf_size=30, metric='minkowski',\n",
              "                     metric_params=None, n_jobs=None, n_neighbors=5, p=2,\n",
              "                     weights='uniform')"
            ]
          },
          "metadata": {
            "tags": []
          },
          "execution_count": 16
        }
      ]
    },
    {
      "cell_type": "code",
      "metadata": {
        "colab": {
          "base_uri": "https://localhost:8080/"
        },
        "id": "p11r41esp0q7",
        "outputId": "c00d6e04-a6fa-44dd-d52b-e6e3f99716a5"
      },
      "source": [
        "clf._tree"
      ],
      "execution_count": 17,
      "outputs": [
        {
          "output_type": "execute_result",
          "data": {
            "text/plain": [
              "<sklearn.neighbors._kd_tree.KDTree at 0x55a3b726ef20>"
            ]
          },
          "metadata": {
            "tags": []
          },
          "execution_count": 17
        }
      ]
    },
    {
      "cell_type": "code",
      "metadata": {
        "colab": {
          "base_uri": "https://localhost:8080/"
        },
        "id": "kLtDlDN8p2rG",
        "outputId": "78aeb93d-bcd7-469a-c717-a80170b8bdab"
      },
      "source": [
        "clf.predict(X[:5])"
      ],
      "execution_count": 18,
      "outputs": [
        {
          "output_type": "execute_result",
          "data": {
            "text/plain": [
              "array(['r', 'r', 'r', 'b', 'b'], dtype='<U1')"
            ]
          },
          "metadata": {
            "tags": []
          },
          "execution_count": 18
        }
      ]
    },
    {
      "cell_type": "code",
      "metadata": {
        "colab": {
          "base_uri": "https://localhost:8080/"
        },
        "id": "7KxNSPVFp5he",
        "outputId": "a5fc6d5b-cd7c-4eee-dfd0-70d9aa93e33c"
      },
      "source": [
        "y[:5]"
      ],
      "execution_count": 19,
      "outputs": [
        {
          "output_type": "execute_result",
          "data": {
            "text/plain": [
              "array(['r', 'r', 'b', 'r', 'b'], dtype='<U1')"
            ]
          },
          "metadata": {
            "tags": []
          },
          "execution_count": 19
        }
      ]
    },
    {
      "cell_type": "code",
      "metadata": {
        "colab": {
          "base_uri": "https://localhost:8080/"
        },
        "id": "gjw2vejUp7x8",
        "outputId": "58b3795e-0c10-4f41-f104-dcac0edda9d4"
      },
      "source": [
        "clf.predict_proba(X[:5])"
      ],
      "execution_count": 20,
      "outputs": [
        {
          "output_type": "execute_result",
          "data": {
            "text/plain": [
              "array([[0. , 1. ],\n",
              "       [0. , 1. ],\n",
              "       [0.2, 0.8],\n",
              "       [0.6, 0.4],\n",
              "       [0.8, 0.2]])"
            ]
          },
          "metadata": {
            "tags": []
          },
          "execution_count": 20
        }
      ]
    },
    {
      "cell_type": "code",
      "metadata": {
        "id": "9Cb0pVoRqFq3"
      },
      "source": [
        "from sklearn.tree import DecisionTreeClassifier"
      ],
      "execution_count": 21,
      "outputs": []
    },
    {
      "cell_type": "code",
      "metadata": {
        "colab": {
          "base_uri": "https://localhost:8080/"
        },
        "id": "gfjop4EhqS6d",
        "outputId": "a017bbba-7e68-4f51-da41-fbb61eb389ec"
      },
      "source": [
        "clf = DecisionTreeClassifier()\n",
        "clf.fit(X, y)"
      ],
      "execution_count": 22,
      "outputs": [
        {
          "output_type": "execute_result",
          "data": {
            "text/plain": [
              "DecisionTreeClassifier(ccp_alpha=0.0, class_weight=None, criterion='gini',\n",
              "                       max_depth=None, max_features=None, max_leaf_nodes=None,\n",
              "                       min_impurity_decrease=0.0, min_impurity_split=None,\n",
              "                       min_samples_leaf=1, min_samples_split=2,\n",
              "                       min_weight_fraction_leaf=0.0, presort='deprecated',\n",
              "                       random_state=None, splitter='best')"
            ]
          },
          "metadata": {
            "tags": []
          },
          "execution_count": 22
        }
      ]
    },
    {
      "cell_type": "code",
      "metadata": {
        "id": "oJNFhgw6qWaf"
      },
      "source": [
        "from sklearn.ensemble import RandomForestClassifier"
      ],
      "execution_count": 23,
      "outputs": []
    },
    {
      "cell_type": "code",
      "metadata": {
        "id": "KR2MP50uqb2u"
      },
      "source": [
        "clf = RandomForestClassifier()"
      ],
      "execution_count": 24,
      "outputs": []
    },
    {
      "cell_type": "code",
      "metadata": {
        "colab": {
          "base_uri": "https://localhost:8080/"
        },
        "id": "kpob4ZqdqdIA",
        "outputId": "5733cab3-b22f-4308-9110-4c6692fffc54"
      },
      "source": [
        "clf.fit(X, y)"
      ],
      "execution_count": 25,
      "outputs": [
        {
          "output_type": "execute_result",
          "data": {
            "text/plain": [
              "RandomForestClassifier(bootstrap=True, ccp_alpha=0.0, class_weight=None,\n",
              "                       criterion='gini', max_depth=None, max_features='auto',\n",
              "                       max_leaf_nodes=None, max_samples=None,\n",
              "                       min_impurity_decrease=0.0, min_impurity_split=None,\n",
              "                       min_samples_leaf=1, min_samples_split=2,\n",
              "                       min_weight_fraction_leaf=0.0, n_estimators=100,\n",
              "                       n_jobs=None, oob_score=False, random_state=None,\n",
              "                       verbose=0, warm_start=False)"
            ]
          },
          "metadata": {
            "tags": []
          },
          "execution_count": 25
        }
      ]
    },
    {
      "cell_type": "code",
      "metadata": {
        "id": "1Ey3uPHzpevD"
      },
      "source": [
        "from sklearn.linear_model import LogisticRegression"
      ],
      "execution_count": 26,
      "outputs": []
    },
    {
      "cell_type": "code",
      "metadata": {
        "colab": {
          "base_uri": "https://localhost:8080/"
        },
        "id": "p_xHZz0EqjR9",
        "outputId": "7d199369-311f-47b4-87bf-e0b52a39851e"
      },
      "source": [
        "clf = LogisticRegression()\n",
        "clf.fit(X, y)"
      ],
      "execution_count": 27,
      "outputs": [
        {
          "output_type": "execute_result",
          "data": {
            "text/plain": [
              "LogisticRegression(C=1.0, class_weight=None, dual=False, fit_intercept=True,\n",
              "                   intercept_scaling=1, l1_ratio=None, max_iter=100,\n",
              "                   multi_class='auto', n_jobs=None, penalty='l2',\n",
              "                   random_state=None, solver='lbfgs', tol=0.0001, verbose=0,\n",
              "                   warm_start=False)"
            ]
          },
          "metadata": {
            "tags": []
          },
          "execution_count": 27
        }
      ]
    },
    {
      "cell_type": "code",
      "metadata": {
        "id": "pVXFgUCoqnu2"
      },
      "source": [
        "from sklearn.svm import SVC"
      ],
      "execution_count": 28,
      "outputs": []
    },
    {
      "cell_type": "code",
      "metadata": {
        "colab": {
          "base_uri": "https://localhost:8080/"
        },
        "id": "aUtkFCn2qsoT",
        "outputId": "8ad0e332-76dc-4b5f-d195-54d343fca098"
      },
      "source": [
        "clf = SVC()\n",
        "clf.fit(X, y)"
      ],
      "execution_count": 29,
      "outputs": [
        {
          "output_type": "execute_result",
          "data": {
            "text/plain": [
              "SVC(C=1.0, break_ties=False, cache_size=200, class_weight=None, coef0=0.0,\n",
              "    decision_function_shape='ovr', degree=3, gamma='scale', kernel='rbf',\n",
              "    max_iter=-1, probability=False, random_state=None, shrinking=True,\n",
              "    tol=0.001, verbose=False)"
            ]
          },
          "metadata": {
            "tags": []
          },
          "execution_count": 29
        }
      ]
    },
    {
      "cell_type": "code",
      "metadata": {
        "id": "vVWIAEtcqwJh"
      },
      "source": [
        "from sklearn.neural_network import MLPClassifier"
      ],
      "execution_count": 30,
      "outputs": []
    },
    {
      "cell_type": "code",
      "metadata": {
        "id": "aBVPLN--s-yZ"
      },
      "source": [
        "clf = MLPClassifier(hidden_layer_sizes=(100, 100, 100), activation=\"relu\", learning_rate=\"invscaling\")"
      ],
      "execution_count": 31,
      "outputs": []
    },
    {
      "cell_type": "code",
      "metadata": {
        "colab": {
          "base_uri": "https://localhost:8080/"
        },
        "id": "GczVr4mItL48",
        "outputId": "6ddf86d3-74a4-483d-8acb-806d2af8ea77"
      },
      "source": [
        "clf.fit(X, y)"
      ],
      "execution_count": 32,
      "outputs": [
        {
          "output_type": "execute_result",
          "data": {
            "text/plain": [
              "MLPClassifier(activation='relu', alpha=0.0001, batch_size='auto', beta_1=0.9,\n",
              "              beta_2=0.999, early_stopping=False, epsilon=1e-08,\n",
              "              hidden_layer_sizes=(100, 100, 100), learning_rate='invscaling',\n",
              "              learning_rate_init=0.001, max_fun=15000, max_iter=200,\n",
              "              momentum=0.9, n_iter_no_change=10, nesterovs_momentum=True,\n",
              "              power_t=0.5, random_state=None, shuffle=True, solver='adam',\n",
              "              tol=0.0001, validation_fraction=0.1, verbose=False,\n",
              "              warm_start=False)"
            ]
          },
          "metadata": {
            "tags": []
          },
          "execution_count": 32
        }
      ]
    },
    {
      "cell_type": "code",
      "metadata": {
        "id": "YFK3TZYItN8Y"
      },
      "source": [
        "from sklearn.gaussian_process import GaussianProcessClassifier"
      ],
      "execution_count": 33,
      "outputs": []
    },
    {
      "cell_type": "code",
      "metadata": {
        "id": "7WhQ9E2UtSoF"
      },
      "source": [
        "clf = GaussianProcessClassifier()"
      ],
      "execution_count": 34,
      "outputs": []
    },
    {
      "cell_type": "code",
      "metadata": {
        "colab": {
          "base_uri": "https://localhost:8080/"
        },
        "id": "ubtX6BWLtU9p",
        "outputId": "195ed1cc-9d6a-4f52-f734-44e32b44a1a3"
      },
      "source": [
        "clf.fit(X, y)"
      ],
      "execution_count": 35,
      "outputs": [
        {
          "output_type": "execute_result",
          "data": {
            "text/plain": [
              "GaussianProcessClassifier(copy_X_train=True, kernel=None, max_iter_predict=100,\n",
              "                          multi_class='one_vs_rest', n_jobs=None,\n",
              "                          n_restarts_optimizer=0, optimizer='fmin_l_bfgs_b',\n",
              "                          random_state=None, warm_start=False)"
            ]
          },
          "metadata": {
            "tags": []
          },
          "execution_count": 35
        }
      ]
    },
    {
      "cell_type": "code",
      "metadata": {
        "id": "I19L-NMctWnr"
      },
      "source": [
        "from sklearn.neighbors import KNeighborsClassifier\n",
        "from sklearn.metrics import zero_one_loss"
      ],
      "execution_count": 36,
      "outputs": []
    },
    {
      "cell_type": "code",
      "metadata": {
        "colab": {
          "base_uri": "https://localhost:8080/"
        },
        "id": "-fD-f_C6wIAG",
        "outputId": "62741f1d-792c-48da-a58f-b4876c8f0a99"
      },
      "source": [
        "clf = KNeighborsClassifier(n_neighbors=1)\n",
        "clf.fit(X, y)"
      ],
      "execution_count": 37,
      "outputs": [
        {
          "output_type": "execute_result",
          "data": {
            "text/plain": [
              "KNeighborsClassifier(algorithm='auto', leaf_size=30, metric='minkowski',\n",
              "                     metric_params=None, n_jobs=None, n_neighbors=1, p=2,\n",
              "                     weights='uniform')"
            ]
          },
          "metadata": {
            "tags": []
          },
          "execution_count": 37
        }
      ]
    },
    {
      "cell_type": "code",
      "metadata": {
        "colab": {
          "base_uri": "https://localhost:8080/"
        },
        "id": "2W_X8V2FwNwh",
        "outputId": "e331595c-3ba2-477c-cd82-720e1c2c7354"
      },
      "source": [
        "zero_one_loss(y, clf.predict(X))"
      ],
      "execution_count": 38,
      "outputs": [
        {
          "output_type": "execute_result",
          "data": {
            "text/plain": [
              "0.0"
            ]
          },
          "metadata": {
            "tags": []
          },
          "execution_count": 38
        }
      ]
    },
    {
      "cell_type": "code",
      "metadata": {
        "id": "bK4uTKpnwRat"
      },
      "source": [
        "from sklearn.neighbors import KNeighborsClassifier\n",
        "from sklearn.metrics import zero_one_loss\n",
        "from sklearn.model_selection import train_test_split"
      ],
      "execution_count": 39,
      "outputs": []
    },
    {
      "cell_type": "code",
      "metadata": {
        "id": "09Esx6C_wd9C"
      },
      "source": [
        "X_train, X_test, y_train, y_test = train_test_split(X, y, train_size=0.7)"
      ],
      "execution_count": 40,
      "outputs": []
    },
    {
      "cell_type": "code",
      "metadata": {
        "colab": {
          "base_uri": "https://localhost:8080/"
        },
        "id": "yvUxH-VawlOl",
        "outputId": "9209833c-e494-4bbb-bdac-5d7f3b4b896e"
      },
      "source": [
        "clf = KNeighborsClassifier(n_neighbors=5)\n",
        "clf.fit(X_train, y_train)"
      ],
      "execution_count": 41,
      "outputs": [
        {
          "output_type": "execute_result",
          "data": {
            "text/plain": [
              "KNeighborsClassifier(algorithm='auto', leaf_size=30, metric='minkowski',\n",
              "                     metric_params=None, n_jobs=None, n_neighbors=5, p=2,\n",
              "                     weights='uniform')"
            ]
          },
          "metadata": {
            "tags": []
          },
          "execution_count": 41
        }
      ]
    },
    {
      "cell_type": "code",
      "metadata": {
        "colab": {
          "base_uri": "https://localhost:8080/"
        },
        "id": "zSQa6ABZwqjD",
        "outputId": "10971cc7-58ff-407e-fe8c-4187090fedb2"
      },
      "source": [
        "zero_one_loss(y_test, clf.predict(X_test))"
      ],
      "execution_count": 42,
      "outputs": [
        {
          "output_type": "execute_result",
          "data": {
            "text/plain": [
              "0.18000000000000005"
            ]
          },
          "metadata": {
            "tags": []
          },
          "execution_count": 42
        }
      ]
    },
    {
      "cell_type": "code",
      "metadata": {
        "colab": {
          "base_uri": "https://localhost:8080/"
        },
        "id": "bmBl6nF_wyey",
        "outputId": "f1b6be9c-eb6a-4d70-88ae-815e5ec6e632"
      },
      "source": [
        "zero_one_loss(y_train, clf.predict(X_train))"
      ],
      "execution_count": 43,
      "outputs": [
        {
          "output_type": "execute_result",
          "data": {
            "text/plain": [
              "0.10571428571428576"
            ]
          },
          "metadata": {
            "tags": []
          },
          "execution_count": 43
        }
      ]
    },
    {
      "cell_type": "code",
      "metadata": {
        "id": "Y-r8Mocfw37t"
      },
      "source": [
        "from sklearn.model_selection import KFold"
      ],
      "execution_count": 44,
      "outputs": []
    },
    {
      "cell_type": "code",
      "metadata": {
        "id": "sWgtw4w7xDNK"
      },
      "source": [
        "scores = []"
      ],
      "execution_count": 45,
      "outputs": []
    },
    {
      "cell_type": "code",
      "metadata": {
        "colab": {
          "base_uri": "https://localhost:8080/"
        },
        "id": "U88Vi__SxEhN",
        "outputId": "fbb1b0d6-1afa-4f89-8002-b8f0ee131eb3"
      },
      "source": [
        "for train, test in KFold(n_splits=5, random_state=42).split(X):\n",
        "  X_train, y_train = X[train], y[train]\n",
        "  X_test, y_test = X[test], y[test]\n",
        "  clf = KNeighborsClassifier(n_neighbors=5).fit(X_train, y_train)\n",
        "  scores.append(zero_one_loss(y_test, clf.predict(X_test)))\n",
        "\n",
        "np.mean(scores)\n",
        "np.std(scores)"
      ],
      "execution_count": 46,
      "outputs": [
        {
          "output_type": "stream",
          "text": [
            "/usr/local/lib/python3.7/dist-packages/sklearn/model_selection/_split.py:296: FutureWarning: Setting a random_state has no effect since shuffle is False. This will raise an error in 0.24. You should leave random_state to its default (None), or set shuffle=True.\n",
            "  FutureWarning\n"
          ],
          "name": "stderr"
        },
        {
          "output_type": "execute_result",
          "data": {
            "text/plain": [
              "0.010770329614269016"
            ]
          },
          "metadata": {
            "tags": []
          },
          "execution_count": 46
        }
      ]
    },
    {
      "cell_type": "code",
      "metadata": {
        "id": "r21EBa5GxgdL"
      },
      "source": [
        "from sklearn.metrics import accuracy_score"
      ],
      "execution_count": 47,
      "outputs": []
    },
    {
      "cell_type": "code",
      "metadata": {
        "colab": {
          "base_uri": "https://localhost:8080/"
        },
        "id": "3t1gDVy9xnTy",
        "outputId": "1c110217-9347-4bae-c0d1-8c9898746917"
      },
      "source": [
        "accuracy_score(y_test, clf.predict(X_test))"
      ],
      "execution_count": 48,
      "outputs": [
        {
          "output_type": "execute_result",
          "data": {
            "text/plain": [
              "0.84"
            ]
          },
          "metadata": {
            "tags": []
          },
          "execution_count": 48
        }
      ]
    },
    {
      "cell_type": "code",
      "metadata": {
        "colab": {
          "base_uri": "https://localhost:8080/"
        },
        "id": "D6Usvk6FxqhC",
        "outputId": "833e5652-597c-4e17-ddb4-bc95a7bb60e7"
      },
      "source": [
        "accuracy_score(y_test, clf.predict(X_test))"
      ],
      "execution_count": 49,
      "outputs": [
        {
          "output_type": "execute_result",
          "data": {
            "text/plain": [
              "0.84"
            ]
          },
          "metadata": {
            "tags": []
          },
          "execution_count": 49
        }
      ]
    },
    {
      "cell_type": "code",
      "metadata": {
        "id": "HckRbj80xtpb"
      },
      "source": [
        "from sklearn.metrics import precision_score, recall_score, fbeta_score"
      ],
      "execution_count": 50,
      "outputs": []
    },
    {
      "cell_type": "code",
      "metadata": {
        "id": "MHOVWHdPyZbi"
      },
      "source": [
        "y_train = (y_train == \"r\")\n",
        "y_test = (y_test == \"r\")"
      ],
      "execution_count": 51,
      "outputs": []
    },
    {
      "cell_type": "code",
      "metadata": {
        "colab": {
          "base_uri": "https://localhost:8080/"
        },
        "id": "mWysFs_fytmA",
        "outputId": "e4c9897e-d446-4ef6-8406-5ffbd18057a3"
      },
      "source": [
        "clf = KNeighborsClassifier(n_neighbors=5)\n",
        "X_train, X_test, y_train, y_test = train_test_split(X, y, train_size = 0.7)\n",
        "y_train = (y_train == \"r\")\n",
        "y_test = (y_test == \"r\")\n",
        "clf.fit(X_train, y_train)"
      ],
      "execution_count": 52,
      "outputs": [
        {
          "output_type": "execute_result",
          "data": {
            "text/plain": [
              "KNeighborsClassifier(algorithm='auto', leaf_size=30, metric='minkowski',\n",
              "                     metric_params=None, n_jobs=None, n_neighbors=5, p=2,\n",
              "                     weights='uniform')"
            ]
          },
          "metadata": {
            "tags": []
          },
          "execution_count": 52
        }
      ]
    },
    {
      "cell_type": "code",
      "metadata": {
        "id": "3kE0f1RhzHO0"
      },
      "source": [
        ""
      ],
      "execution_count": 52,
      "outputs": []
    },
    {
      "cell_type": "code",
      "metadata": {
        "colab": {
          "base_uri": "https://localhost:8080/"
        },
        "id": "wdL2QeIay_FZ",
        "outputId": "33cb5987-6991-432d-a6e3-ea7aa5992027"
      },
      "source": [
        "precision_score(y_test, clf.predict(X_test))"
      ],
      "execution_count": 53,
      "outputs": [
        {
          "output_type": "execute_result",
          "data": {
            "text/plain": [
              "0.8278145695364238"
            ]
          },
          "metadata": {
            "tags": []
          },
          "execution_count": 53
        }
      ]
    },
    {
      "cell_type": "code",
      "metadata": {
        "colab": {
          "base_uri": "https://localhost:8080/"
        },
        "id": "PVPUPkTlzIB8",
        "outputId": "07e0ec76-d15e-4e37-dd3f-670292ee7186"
      },
      "source": [
        "recall_score(y_test, clf.predict(X_test))"
      ],
      "execution_count": 54,
      "outputs": [
        {
          "output_type": "execute_result",
          "data": {
            "text/plain": [
              "0.8680555555555556"
            ]
          },
          "metadata": {
            "tags": []
          },
          "execution_count": 54
        }
      ]
    },
    {
      "cell_type": "code",
      "metadata": {
        "colab": {
          "base_uri": "https://localhost:8080/"
        },
        "id": "3vfjL7CBzPag",
        "outputId": "42478053-7b27-497b-abab-a3691a99f9b5"
      },
      "source": [
        "fbeta_score(y_test, clf.predict(X_test), beta=1)"
      ],
      "execution_count": 55,
      "outputs": [
        {
          "output_type": "execute_result",
          "data": {
            "text/plain": [
              "0.847457627118644"
            ]
          },
          "metadata": {
            "tags": []
          },
          "execution_count": 55
        }
      ]
    },
    {
      "cell_type": "code",
      "metadata": {
        "id": "rfkpK2rSzWiN"
      },
      "source": [
        "from sklearn.metrics import roc_auc_score, roc_curve"
      ],
      "execution_count": 56,
      "outputs": []
    },
    {
      "cell_type": "code",
      "metadata": {
        "id": "HRFJW4YQzigF"
      },
      "source": [
        "fpr, tpr, thresholds = roc_curve(y_test, clf.predict_proba(X_test)[:, 1])"
      ],
      "execution_count": 57,
      "outputs": []
    },
    {
      "cell_type": "code",
      "metadata": {
        "colab": {
          "base_uri": "https://localhost:8080/",
          "height": 265
        },
        "id": "02V2O0JlzwUg",
        "outputId": "cb8d4690-0c57-461e-c1c3-00a605710c14"
      },
      "source": [
        "plt.plot(fpr, tpr)\n",
        "plt.show()"
      ],
      "execution_count": 58,
      "outputs": [
        {
          "output_type": "display_data",
          "data": {
            "image/png": "[encoded data removed]",
            "text/plain": [
              "<Figure size 432x288 with 1 Axes>"
            ]
          },
          "metadata": {
            "tags": [],
            "needs_background": "light"
          }
        }
      ]
    },
    {
      "cell_type": "code",
      "metadata": {
        "colab": {
          "base_uri": "https://localhost:8080/"
        },
        "id": "hvm_UPEqz-20",
        "outputId": "60b3cc1d-cb76-4055-f2ab-df810a591b95"
      },
      "source": [
        "from sklearn.metrics import confusion_matrix\n",
        "confusion_matrix(y_test, clf.predict(X_test))"
      ],
      "execution_count": 59,
      "outputs": [
        {
          "output_type": "execute_result",
          "data": {
            "text/plain": [
              "array([[130,  26],\n",
              "       [ 19, 125]])"
            ]
          },
          "metadata": {
            "tags": []
          },
          "execution_count": 59
        }
      ]
    },
    {
      "cell_type": "code",
      "metadata": {
        "id": "7YTBnqdS0J3p"
      },
      "source": [
        "from sklearn.model_selection import GridSearchCV"
      ],
      "execution_count": 60,
      "outputs": []
    },
    {
      "cell_type": "code",
      "metadata": {
        "colab": {
          "base_uri": "https://localhost:8080/"
        },
        "id": "oBszYAIN1mY5",
        "outputId": "2e520258-ac57-4e3a-f73c-402b5749699c"
      },
      "source": [
        "grid = GridSearchCV(KNeighborsClassifier(),\n",
        "                    param_grid={\"n_neighbors\": list(range(1,100))},\n",
        "                    scoring=\"accuracy\",\n",
        "                    cv=5, n_jobs=-1)\n",
        "grid.fit(X, y)"
      ],
      "execution_count": 61,
      "outputs": [
        {
          "output_type": "execute_result",
          "data": {
            "text/plain": [
              "GridSearchCV(cv=5, error_score=nan,\n",
              "             estimator=KNeighborsClassifier(algorithm='auto', leaf_size=30,\n",
              "                                            metric='minkowski',\n",
              "                                            metric_params=None, n_jobs=None,\n",
              "                                            n_neighbors=5, p=2,\n",
              "                                            weights='uniform'),\n",
              "             iid='deprecated', n_jobs=-1,\n",
              "             param_grid={'n_neighbors': [1, 2, 3, 4, 5, 6, 7, 8, 9, 10, 11, 12,\n",
              "                                         13, 14, 15, 16, 17, 18, 19, 20, 21, 22,\n",
              "                                         23, 24, 25, 26, 27, 28, 29, 30, ...]},\n",
              "             pre_dispatch='2*n_jobs', refit=True, return_train_score=False,\n",
              "             scoring='accuracy', verbose=0)"
            ]
          },
          "metadata": {
            "tags": []
          },
          "execution_count": 61
        }
      ]
    },
    {
      "cell_type": "code",
      "metadata": {
        "colab": {
          "base_uri": "https://localhost:8080/"
        },
        "id": "SxSQzDYk13m8",
        "outputId": "128886d5-3073-43d9-e2f4-838942520f23"
      },
      "source": [
        "print(1- grid.best_score_, grid.best_params_)"
      ],
      "execution_count": 62,
      "outputs": [
        {
          "output_type": "stream",
          "text": [
            "0.131 {'n_neighbors': 34}\n"
          ],
          "name": "stdout"
        }
      ]
    },
    {
      "cell_type": "code",
      "metadata": {
        "id": "6T6uD6812AyQ"
      },
      "source": [
        "from sklearn.model_selection import cross_val_score\n",
        "from sklearn.model_selection import GridSearchCV"
      ],
      "execution_count": 63,
      "outputs": []
    },
    {
      "cell_type": "code",
      "metadata": {
        "id": "Jvn8kCqd2TJ9"
      },
      "source": [
        "scores = cross_val_score(GridSearchCV(KNeighborsClassifier(),\n",
        "                                      param_grid={\n",
        "                                          \"n_neighbors\": list(range(1, 100))\n",
        "                                      },\n",
        "                                      scoring=\"accuracy\",\n",
        "                                      cv=5,\n",
        "                                      n_jobs=-1), X, y, cv=5, scoring=\"accuracy\")"
      ],
      "execution_count": 64,
      "outputs": []
    },
    {
      "cell_type": "code",
      "metadata": {
        "colab": {
          "base_uri": "https://localhost:8080/"
        },
        "id": "aBTMxcDk2vGJ",
        "outputId": "71e84fef-ce62-4b6f-d7e5-add72847b90e"
      },
      "source": [
        "print(1- np.mean(scores), np.std(scores))"
      ],
      "execution_count": 65,
      "outputs": [
        {
          "output_type": "stream",
          "text": [
            "0.1439999999999999 0.023958297101421902\n"
          ],
          "name": "stdout"
        }
      ]
    },
    {
      "cell_type": "code",
      "metadata": {
        "id": "INttcpe326lj"
      },
      "source": [
        "from sklearn.datasets import load_digits"
      ],
      "execution_count": 66,
      "outputs": []
    },
    {
      "cell_type": "code",
      "metadata": {
        "id": "5yeJm7n9kfOx"
      },
      "source": [
        "from sklearn.model_selection import train_test_split"
      ],
      "execution_count": 67,
      "outputs": []
    },
    {
      "cell_type": "code",
      "metadata": {
        "id": "KrI0dSJQkkXI"
      },
      "source": [
        "digits = load_digits()\n",
        "X = digits.data\n",
        "y = digits.target"
      ],
      "execution_count": 68,
      "outputs": []
    },
    {
      "cell_type": "code",
      "metadata": {
        "id": "sci08AxNkmib"
      },
      "source": [
        "X_train, X_test, y_train, y_test = train_test_split(X, y, train_size=0.8 )"
      ],
      "execution_count": 69,
      "outputs": []
    },
    {
      "cell_type": "code",
      "metadata": {
        "id": "3qspNMFkM9rf"
      },
      "source": [
        "from sklearn.preprocessing import StandardScaler"
      ],
      "execution_count": 70,
      "outputs": []
    },
    {
      "cell_type": "code",
      "metadata": {
        "id": "ooCc5vTPNTNQ"
      },
      "source": [
        "tf = StandardScaler()"
      ],
      "execution_count": 71,
      "outputs": []
    },
    {
      "cell_type": "code",
      "metadata": {
        "colab": {
          "base_uri": "https://localhost:8080/"
        },
        "id": "RyeKRF0BNWJT",
        "outputId": "ffeaf653-e1ef-4f79-a053-fb57590f7dea"
      },
      "source": [
        "tf.fit(X_train, y_train)"
      ],
      "execution_count": 72,
      "outputs": [
        {
          "output_type": "execute_result",
          "data": {
            "text/plain": [
              "StandardScaler(copy=True, with_mean=True, with_std=True)"
            ]
          },
          "metadata": {
            "tags": []
          },
          "execution_count": 72
        }
      ]
    },
    {
      "cell_type": "code",
      "metadata": {
        "id": "2pVgh7-MNcMZ"
      },
      "source": [
        "Xt_train = tf.transform(X_train)"
      ],
      "execution_count": 73,
      "outputs": []
    },
    {
      "cell_type": "code",
      "metadata": {
        "colab": {
          "base_uri": "https://localhost:8080/"
        },
        "id": "ZN1NrAIONhzC",
        "outputId": "d9c8e356-f67e-4980-e609-8741c491e263"
      },
      "source": [
        "np.mean(X_train)"
      ],
      "execution_count": 74,
      "outputs": [
        {
          "output_type": "execute_result",
          "data": {
            "text/plain": [
              "4.891266527487822"
            ]
          },
          "metadata": {
            "tags": []
          },
          "execution_count": 74
        }
      ]
    },
    {
      "cell_type": "code",
      "metadata": {
        "colab": {
          "base_uri": "https://localhost:8080/"
        },
        "id": "MykcSPgqNlfX",
        "outputId": "907988a2-c443-4d3b-f89e-3395dd00a6d7"
      },
      "source": [
        "np.mean(Xt_train)"
      ],
      "execution_count": 75,
      "outputs": [
        {
          "output_type": "execute_result",
          "data": {
            "text/plain": [
              "3.862988951374936e-18"
            ]
          },
          "metadata": {
            "tags": []
          },
          "execution_count": 75
        }
      ]
    },
    {
      "cell_type": "code",
      "metadata": {
        "id": "DcdQW44mNn8q"
      },
      "source": [
        "from sklearn.svm import SVC"
      ],
      "execution_count": 77,
      "outputs": []
    },
    {
      "cell_type": "code",
      "metadata": {
        "id": "9b1FdNesNtR3"
      },
      "source": [
        "clf = SVC()"
      ],
      "execution_count": 78,
      "outputs": []
    },
    {
      "cell_type": "code",
      "metadata": {
        "colab": {
          "base_uri": "https://localhost:8080/"
        },
        "id": "eidxfvT0NwQk",
        "outputId": "e0744f87-a4cb-4c8b-f81f-c274e08bd915"
      },
      "source": [
        "clf.fit(X_train, y_train).score(X_test, y_test)"
      ],
      "execution_count": 79,
      "outputs": [
        {
          "output_type": "execute_result",
          "data": {
            "text/plain": [
              "0.9972222222222222"
            ]
          },
          "metadata": {
            "tags": []
          },
          "execution_count": 79
        }
      ]
    },
    {
      "cell_type": "code",
      "metadata": {
        "colab": {
          "base_uri": "https://localhost:8080/"
        },
        "id": "XJd2DVX-N4J1",
        "outputId": "824643f7-d931-4b26-d777-beea569b3058"
      },
      "source": [
        "clf.fit(tf.transform(X_train), y_train).score(tf.transform(X_test), y_test)"
      ],
      "execution_count": 84,
      "outputs": [
        {
          "output_type": "execute_result",
          "data": {
            "text/plain": [
              "0.9944444444444445"
            ]
          },
          "metadata": {
            "tags": []
          },
          "execution_count": 84
        }
      ]
    },
    {
      "cell_type": "code",
      "metadata": {
        "id": "BrMjaDz4Ocv0"
      },
      "source": [
        "from sklearn.feature_selection import RFE"
      ],
      "execution_count": 85,
      "outputs": []
    },
    {
      "cell_type": "code",
      "metadata": {
        "id": "jdjJHoVsOsTy"
      },
      "source": [
        "from sklearn.ensemble import RandomForestClassifier"
      ],
      "execution_count": 86,
      "outputs": []
    },
    {
      "cell_type": "code",
      "metadata": {
        "id": "CuiCiuzeOvje"
      },
      "source": [
        "tf = RFE(RandomForestClassifier(), n_features_to_select=10, verbose=1)"
      ],
      "execution_count": 87,
      "outputs": []
    },
    {
      "cell_type": "code",
      "metadata": {
        "colab": {
          "base_uri": "https://localhost:8080/"
        },
        "id": "PKCjZED1O2a4",
        "outputId": "9449addc-389b-43ed-ab78-808827710171"
      },
      "source": [
        "Xt = tf.fit_transform(X_train, y_train)"
      ],
      "execution_count": 88,
      "outputs": [
        {
          "output_type": "stream",
          "text": [
            "Fitting estimator with 64 features.\n",
            "Fitting estimator with 63 features.\n",
            "Fitting estimator with 62 features.\n",
            "Fitting estimator with 61 features.\n",
            "Fitting estimator with 60 features.\n",
            "Fitting estimator with 59 features.\n",
            "Fitting estimator with 58 features.\n",
            "Fitting estimator with 57 features.\n",
            "Fitting estimator with 56 features.\n",
            "Fitting estimator with 55 features.\n",
            "Fitting estimator with 54 features.\n",
            "Fitting estimator with 53 features.\n",
            "Fitting estimator with 52 features.\n",
            "Fitting estimator with 51 features.\n",
            "Fitting estimator with 50 features.\n",
            "Fitting estimator with 49 features.\n",
            "Fitting estimator with 48 features.\n",
            "Fitting estimator with 47 features.\n",
            "Fitting estimator with 46 features.\n",
            "Fitting estimator with 45 features.\n",
            "Fitting estimator with 44 features.\n",
            "Fitting estimator with 43 features.\n",
            "Fitting estimator with 42 features.\n",
            "Fitting estimator with 41 features.\n",
            "Fitting estimator with 40 features.\n",
            "Fitting estimator with 39 features.\n",
            "Fitting estimator with 38 features.\n",
            "Fitting estimator with 37 features.\n",
            "Fitting estimator with 36 features.\n",
            "Fitting estimator with 35 features.\n",
            "Fitting estimator with 34 features.\n",
            "Fitting estimator with 33 features.\n",
            "Fitting estimator with 32 features.\n",
            "Fitting estimator with 31 features.\n",
            "Fitting estimator with 30 features.\n",
            "Fitting estimator with 29 features.\n",
            "Fitting estimator with 28 features.\n",
            "Fitting estimator with 27 features.\n",
            "Fitting estimator with 26 features.\n",
            "Fitting estimator with 25 features.\n",
            "Fitting estimator with 24 features.\n",
            "Fitting estimator with 23 features.\n",
            "Fitting estimator with 22 features.\n",
            "Fitting estimator with 21 features.\n",
            "Fitting estimator with 20 features.\n",
            "Fitting estimator with 19 features.\n",
            "Fitting estimator with 18 features.\n",
            "Fitting estimator with 17 features.\n",
            "Fitting estimator with 16 features.\n",
            "Fitting estimator with 15 features.\n",
            "Fitting estimator with 14 features.\n",
            "Fitting estimator with 13 features.\n",
            "Fitting estimator with 12 features.\n",
            "Fitting estimator with 11 features.\n"
          ],
          "name": "stdout"
        }
      ]
    },
    {
      "cell_type": "code",
      "metadata": {
        "id": "itg7JCd4OX4Z"
      },
      "source": [
        "from sklearn.pipeline import make_pipeline"
      ],
      "execution_count": 89,
      "outputs": []
    },
    {
      "cell_type": "code",
      "metadata": {
        "id": "-sO0HPs-Pou_"
      },
      "source": [
        "from sklearn.preprocessing import StandardScaler"
      ],
      "execution_count": 90,
      "outputs": []
    },
    {
      "cell_type": "code",
      "metadata": {
        "id": "diyPStPZPsPz"
      },
      "source": [
        "from sklearn.feature_selection import SelectKBest, f_classif"
      ],
      "execution_count": 91,
      "outputs": []
    },
    {
      "cell_type": "code",
      "metadata": {
        "colab": {
          "base_uri": "https://localhost:8080/"
        },
        "id": "oiT6PQVrPxPV",
        "outputId": "00a877ac-6e56-414b-c2ff-3600c5e3974a"
      },
      "source": [
        "tf = make_pipeline(\n",
        "    StandardScaler(),\n",
        "    SelectKBest(score_func=f_classif, k=10)\n",
        ")\n",
        "\n",
        "tf.fit(X_train, y_train)"
      ],
      "execution_count": 92,
      "outputs": [
        {
          "output_type": "stream",
          "text": [
            "/usr/local/lib/python3.7/dist-packages/sklearn/feature_selection/_univariate_selection.py:114: UserWarning: Features [ 0 32 39] are constant.\n",
            "  UserWarning)\n",
            "/usr/local/lib/python3.7/dist-packages/sklearn/feature_selection/_univariate_selection.py:115: RuntimeWarning: invalid value encountered in true_divide\n",
            "  f = msb / msw\n"
          ],
          "name": "stderr"
        },
        {
          "output_type": "execute_result",
          "data": {
            "text/plain": [
              "Pipeline(memory=None,\n",
              "         steps=[('standardscaler',\n",
              "                 StandardScaler(copy=True, with_mean=True, with_std=True)),\n",
              "                ('selectkbest',\n",
              "                 SelectKBest(k=10,\n",
              "                             score_func=<function f_classif at 0x7f541eeaa8c0>))],\n",
              "         verbose=False)"
            ]
          },
          "metadata": {
            "tags": []
          },
          "execution_count": 92
        }
      ]
    },
    {
      "cell_type": "code",
      "metadata": {
        "id": "LL-lo5zUOK6o"
      },
      "source": [
        "Xt_train = tf.transform(X_train)"
      ],
      "execution_count": 93,
      "outputs": []
    },
    {
      "cell_type": "code",
      "metadata": {
        "colab": {
          "base_uri": "https://localhost:8080/"
        },
        "id": "vucXDBGLOGhe",
        "outputId": "b3cac283-6f83-4b6f-bbeb-6596294deeac"
      },
      "source": [
        "clf = make_pipeline(\n",
        "    StandardScaler(),\n",
        "    SelectKBest(score_func=f_classif, k=10),\n",
        "    RandomForestClassifier()\n",
        ")\n",
        "\n",
        "clf.fit(X_train, y_train)"
      ],
      "execution_count": 94,
      "outputs": [
        {
          "output_type": "stream",
          "text": [
            "/usr/local/lib/python3.7/dist-packages/sklearn/feature_selection/_univariate_selection.py:114: UserWarning: Features [ 0 32 39] are constant.\n",
            "  UserWarning)\n",
            "/usr/local/lib/python3.7/dist-packages/sklearn/feature_selection/_univariate_selection.py:115: RuntimeWarning: invalid value encountered in true_divide\n",
            "  f = msb / msw\n"
          ],
          "name": "stderr"
        },
        {
          "output_type": "execute_result",
          "data": {
            "text/plain": [
              "Pipeline(memory=None,\n",
              "         steps=[('standardscaler',\n",
              "                 StandardScaler(copy=True, with_mean=True, with_std=True)),\n",
              "                ('selectkbest',\n",
              "                 SelectKBest(k=10,\n",
              "                             score_func=<function f_classif at 0x7f541eeaa8c0>)),\n",
              "                ('randomforestclassifier',\n",
              "                 RandomForestClassifier(bootstrap=True, ccp_alpha=0.0,\n",
              "                                        class_weight=None, criterion='gini',\n",
              "                                        max_depth=None, max_features='auto',\n",
              "                                        max_leaf_nodes=None, max_samples=None,\n",
              "                                        min_impurity_decrease=0.0,\n",
              "                                        min_impurity_split=None,\n",
              "                                        min_samples_leaf=1, min_samples_split=2,\n",
              "                                        min_weight_fraction_leaf=0.0,\n",
              "                                        n_estimators=100, n_jobs=None,\n",
              "                                        oob_score=False, random_state=None,\n",
              "                                        verbose=0, warm_start=False))],\n",
              "         verbose=False)"
            ]
          },
          "metadata": {
            "tags": []
          },
          "execution_count": 94
        }
      ]
    },
    {
      "cell_type": "code",
      "metadata": {
        "colab": {
          "base_uri": "https://localhost:8080/"
        },
        "id": "HuqACshDOEa1",
        "outputId": "84f9a712-90b4-4bbe-e3e4-cf247ddc90eb"
      },
      "source": [
        "clf.predict_proba(X_test)[:5]"
      ],
      "execution_count": 95,
      "outputs": [
        {
          "output_type": "execute_result",
          "data": {
            "text/plain": [
              "array([[0.  , 0.  , 0.94, 0.02, 0.  , 0.01, 0.  , 0.  , 0.03, 0.  ],\n",
              "       [0.97, 0.  , 0.  , 0.  , 0.03, 0.  , 0.  , 0.  , 0.  , 0.  ],\n",
              "       [0.01, 0.01, 0.02, 0.02, 0.01, 0.  , 0.  , 0.75, 0.17, 0.01],\n",
              "       [0.  , 0.  , 0.  , 0.  , 0.99, 0.  , 0.  , 0.  , 0.01, 0.  ],\n",
              "       [0.  , 0.01, 0.  , 0.  , 0.84, 0.  , 0.  , 0.15, 0.  , 0.  ]])"
            ]
          },
          "metadata": {
            "tags": []
          },
          "execution_count": 95
        }
      ]
    },
    {
      "cell_type": "code",
      "metadata": {
        "id": "LaxQx-P60HyD"
      },
      "source": [
        "from sklearn.model_selection import GridSearchCV"
      ],
      "execution_count": 96,
      "outputs": []
    },
    {
      "cell_type": "code",
      "metadata": {
        "id": "tN8FRMJMz6_v"
      },
      "source": [
        "grid = GridSearchCV(clf, param_grid={\n",
        "    \"selectkbest__k\": [1, 10, 20, 30, 40, 50],\n",
        "    \"randomforestclassifier__max_features\": [0.1, 0.25, 0.5]\n",
        "})"
      ],
      "execution_count": 97,
      "outputs": []
    },
    {
      "cell_type": "code",
      "metadata": {
        "id": "TT4khz90zz_D",
        "colab": {
          "base_uri": "https://localhost:8080/"
        },
        "outputId": "8a9adfff-55f9-4c8e-cef8-533da3d47320"
      },
      "source": [
        "grid.fit(X_train, y_train)"
      ],
      "execution_count": 98,
      "outputs": [
        {
          "output_type": "stream",
          "text": [
            "/usr/local/lib/python3.7/dist-packages/sklearn/feature_selection/_univariate_selection.py:114: UserWarning: Features [ 0 32 39] are constant.\n",
            "  UserWarning)\n",
            "/usr/local/lib/python3.7/dist-packages/sklearn/feature_selection/_univariate_selection.py:115: RuntimeWarning: invalid value encountered in true_divide\n",
            "  f = msb / msw\n",
            "/usr/local/lib/python3.7/dist-packages/sklearn/feature_selection/_univariate_selection.py:114: UserWarning: Features [ 0 32 39 56] are constant.\n",
            "  UserWarning)\n",
            "/usr/local/lib/python3.7/dist-packages/sklearn/feature_selection/_univariate_selection.py:115: RuntimeWarning: invalid value encountered in true_divide\n",
            "  f = msb / msw\n",
            "/usr/local/lib/python3.7/dist-packages/sklearn/feature_selection/_univariate_selection.py:114: UserWarning: Features [ 0 32 39] are constant.\n",
            "  UserWarning)\n",
            "/usr/local/lib/python3.7/dist-packages/sklearn/feature_selection/_univariate_selection.py:115: RuntimeWarning: invalid value encountered in true_divide\n",
            "  f = msb / msw\n",
            "/usr/local/lib/python3.7/dist-packages/sklearn/feature_selection/_univariate_selection.py:114: UserWarning: Features [ 0 24 31 32 39] are constant.\n",
            "  UserWarning)\n",
            "/usr/local/lib/python3.7/dist-packages/sklearn/feature_selection/_univariate_selection.py:115: RuntimeWarning: invalid value encountered in true_divide\n",
            "  f = msb / msw\n",
            "/usr/local/lib/python3.7/dist-packages/sklearn/feature_selection/_univariate_selection.py:114: UserWarning: Features [ 0 32 39] are constant.\n",
            "  UserWarning)\n",
            "/usr/local/lib/python3.7/dist-packages/sklearn/feature_selection/_univariate_selection.py:115: RuntimeWarning: invalid value encountered in true_divide\n",
            "  f = msb / msw\n",
            "/usr/local/lib/python3.7/dist-packages/sklearn/feature_selection/_univariate_selection.py:114: UserWarning: Features [ 0 32 39] are constant.\n",
            "  UserWarning)\n",
            "/usr/local/lib/python3.7/dist-packages/sklearn/feature_selection/_univariate_selection.py:115: RuntimeWarning: invalid value encountered in true_divide\n",
            "  f = msb / msw\n",
            "/usr/local/lib/python3.7/dist-packages/sklearn/feature_selection/_univariate_selection.py:114: UserWarning: Features [ 0 32 39 56] are constant.\n",
            "  UserWarning)\n",
            "/usr/local/lib/python3.7/dist-packages/sklearn/feature_selection/_univariate_selection.py:115: RuntimeWarning: invalid value encountered in true_divide\n",
            "  f = msb / msw\n",
            "/usr/local/lib/python3.7/dist-packages/sklearn/feature_selection/_univariate_selection.py:114: UserWarning: Features [ 0 32 39] are constant.\n",
            "  UserWarning)\n",
            "/usr/local/lib/python3.7/dist-packages/sklearn/feature_selection/_univariate_selection.py:115: RuntimeWarning: invalid value encountered in true_divide\n",
            "  f = msb / msw\n",
            "/usr/local/lib/python3.7/dist-packages/sklearn/feature_selection/_univariate_selection.py:114: UserWarning: Features [ 0 24 31 32 39] are constant.\n",
            "  UserWarning)\n",
            "/usr/local/lib/python3.7/dist-packages/sklearn/feature_selection/_univariate_selection.py:115: RuntimeWarning: invalid value encountered in true_divide\n",
            "  f = msb / msw\n",
            "/usr/local/lib/python3.7/dist-packages/sklearn/feature_selection/_univariate_selection.py:114: UserWarning: Features [ 0 32 39] are constant.\n",
            "  UserWarning)\n",
            "/usr/local/lib/python3.7/dist-packages/sklearn/feature_selection/_univariate_selection.py:115: RuntimeWarning: invalid value encountered in true_divide\n",
            "  f = msb / msw\n",
            "/usr/local/lib/python3.7/dist-packages/sklearn/feature_selection/_univariate_selection.py:114: UserWarning: Features [ 0 32 39] are constant.\n",
            "  UserWarning)\n",
            "/usr/local/lib/python3.7/dist-packages/sklearn/feature_selection/_univariate_selection.py:115: RuntimeWarning: invalid value encountered in true_divide\n",
            "  f = msb / msw\n",
            "/usr/local/lib/python3.7/dist-packages/sklearn/feature_selection/_univariate_selection.py:114: UserWarning: Features [ 0 32 39 56] are constant.\n",
            "  UserWarning)\n",
            "/usr/local/lib/python3.7/dist-packages/sklearn/feature_selection/_univariate_selection.py:115: RuntimeWarning: invalid value encountered in true_divide\n",
            "  f = msb / msw\n",
            "/usr/local/lib/python3.7/dist-packages/sklearn/feature_selection/_univariate_selection.py:114: UserWarning: Features [ 0 32 39] are constant.\n",
            "  UserWarning)\n",
            "/usr/local/lib/python3.7/dist-packages/sklearn/feature_selection/_univariate_selection.py:115: RuntimeWarning: invalid value encountered in true_divide\n",
            "  f = msb / msw\n",
            "/usr/local/lib/python3.7/dist-packages/sklearn/feature_selection/_univariate_selection.py:114: UserWarning: Features [ 0 24 31 32 39] are constant.\n",
            "  UserWarning)\n",
            "/usr/local/lib/python3.7/dist-packages/sklearn/feature_selection/_univariate_selection.py:115: RuntimeWarning: invalid value encountered in true_divide\n",
            "  f = msb / msw\n",
            "/usr/local/lib/python3.7/dist-packages/sklearn/feature_selection/_univariate_selection.py:114: UserWarning: Features [ 0 32 39] are constant.\n",
            "  UserWarning)\n",
            "/usr/local/lib/python3.7/dist-packages/sklearn/feature_selection/_univariate_selection.py:115: RuntimeWarning: invalid value encountered in true_divide\n",
            "  f = msb / msw\n",
            "/usr/local/lib/python3.7/dist-packages/sklearn/feature_selection/_univariate_selection.py:114: UserWarning: Features [ 0 32 39] are constant.\n",
            "  UserWarning)\n",
            "/usr/local/lib/python3.7/dist-packages/sklearn/feature_selection/_univariate_selection.py:115: RuntimeWarning: invalid value encountered in true_divide\n",
            "  f = msb / msw\n",
            "/usr/local/lib/python3.7/dist-packages/sklearn/feature_selection/_univariate_selection.py:114: UserWarning: Features [ 0 32 39 56] are constant.\n",
            "  UserWarning)\n",
            "/usr/local/lib/python3.7/dist-packages/sklearn/feature_selection/_univariate_selection.py:115: RuntimeWarning: invalid value encountered in true_divide\n",
            "  f = msb / msw\n",
            "/usr/local/lib/python3.7/dist-packages/sklearn/feature_selection/_univariate_selection.py:114: UserWarning: Features [ 0 32 39] are constant.\n",
            "  UserWarning)\n",
            "/usr/local/lib/python3.7/dist-packages/sklearn/feature_selection/_univariate_selection.py:115: RuntimeWarning: invalid value encountered in true_divide\n",
            "  f = msb / msw\n",
            "/usr/local/lib/python3.7/dist-packages/sklearn/feature_selection/_univariate_selection.py:114: UserWarning: Features [ 0 24 31 32 39] are constant.\n",
            "  UserWarning)\n",
            "/usr/local/lib/python3.7/dist-packages/sklearn/feature_selection/_univariate_selection.py:115: RuntimeWarning: invalid value encountered in true_divide\n",
            "  f = msb / msw\n",
            "/usr/local/lib/python3.7/dist-packages/sklearn/feature_selection/_univariate_selection.py:114: UserWarning: Features [ 0 32 39] are constant.\n",
            "  UserWarning)\n",
            "/usr/local/lib/python3.7/dist-packages/sklearn/feature_selection/_univariate_selection.py:115: RuntimeWarning: invalid value encountered in true_divide\n",
            "  f = msb / msw\n",
            "/usr/local/lib/python3.7/dist-packages/sklearn/feature_selection/_univariate_selection.py:114: UserWarning: Features [ 0 32 39] are constant.\n",
            "  UserWarning)\n",
            "/usr/local/lib/python3.7/dist-packages/sklearn/feature_selection/_univariate_selection.py:115: RuntimeWarning: invalid value encountered in true_divide\n",
            "  f = msb / msw\n",
            "/usr/local/lib/python3.7/dist-packages/sklearn/feature_selection/_univariate_selection.py:114: UserWarning: Features [ 0 32 39 56] are constant.\n",
            "  UserWarning)\n",
            "/usr/local/lib/python3.7/dist-packages/sklearn/feature_selection/_univariate_selection.py:115: RuntimeWarning: invalid value encountered in true_divide\n",
            "  f = msb / msw\n",
            "/usr/local/lib/python3.7/dist-packages/sklearn/feature_selection/_univariate_selection.py:114: UserWarning: Features [ 0 32 39] are constant.\n",
            "  UserWarning)\n",
            "/usr/local/lib/python3.7/dist-packages/sklearn/feature_selection/_univariate_selection.py:115: RuntimeWarning: invalid value encountered in true_divide\n",
            "  f = msb / msw\n",
            "/usr/local/lib/python3.7/dist-packages/sklearn/feature_selection/_univariate_selection.py:114: UserWarning: Features [ 0 24 31 32 39] are constant.\n",
            "  UserWarning)\n",
            "/usr/local/lib/python3.7/dist-packages/sklearn/feature_selection/_univariate_selection.py:115: RuntimeWarning: invalid value encountered in true_divide\n",
            "  f = msb / msw\n",
            "/usr/local/lib/python3.7/dist-packages/sklearn/feature_selection/_univariate_selection.py:114: UserWarning: Features [ 0 32 39] are constant.\n",
            "  UserWarning)\n",
            "/usr/local/lib/python3.7/dist-packages/sklearn/feature_selection/_univariate_selection.py:115: RuntimeWarning: invalid value encountered in true_divide\n",
            "  f = msb / msw\n",
            "/usr/local/lib/python3.7/dist-packages/sklearn/feature_selection/_univariate_selection.py:114: UserWarning: Features [ 0 32 39] are constant.\n",
            "  UserWarning)\n",
            "/usr/local/lib/python3.7/dist-packages/sklearn/feature_selection/_univariate_selection.py:115: RuntimeWarning: invalid value encountered in true_divide\n",
            "  f = msb / msw\n",
            "/usr/local/lib/python3.7/dist-packages/sklearn/feature_selection/_univariate_selection.py:114: UserWarning: Features [ 0 32 39 56] are constant.\n",
            "  UserWarning)\n",
            "/usr/local/lib/python3.7/dist-packages/sklearn/feature_selection/_univariate_selection.py:115: RuntimeWarning: invalid value encountered in true_divide\n",
            "  f = msb / msw\n",
            "/usr/local/lib/python3.7/dist-packages/sklearn/feature_selection/_univariate_selection.py:114: UserWarning: Features [ 0 32 39] are constant.\n",
            "  UserWarning)\n",
            "/usr/local/lib/python3.7/dist-packages/sklearn/feature_selection/_univariate_selection.py:115: RuntimeWarning: invalid value encountered in true_divide\n",
            "  f = msb / msw\n",
            "/usr/local/lib/python3.7/dist-packages/sklearn/feature_selection/_univariate_selection.py:114: UserWarning: Features [ 0 24 31 32 39] are constant.\n",
            "  UserWarning)\n",
            "/usr/local/lib/python3.7/dist-packages/sklearn/feature_selection/_univariate_selection.py:115: RuntimeWarning: invalid value encountered in true_divide\n",
            "  f = msb / msw\n",
            "/usr/local/lib/python3.7/dist-packages/sklearn/feature_selection/_univariate_selection.py:114: UserWarning: Features [ 0 32 39] are constant.\n",
            "  UserWarning)\n",
            "/usr/local/lib/python3.7/dist-packages/sklearn/feature_selection/_univariate_selection.py:115: RuntimeWarning: invalid value encountered in true_divide\n",
            "  f = msb / msw\n",
            "/usr/local/lib/python3.7/dist-packages/sklearn/feature_selection/_univariate_selection.py:114: UserWarning: Features [ 0 32 39] are constant.\n",
            "  UserWarning)\n",
            "/usr/local/lib/python3.7/dist-packages/sklearn/feature_selection/_univariate_selection.py:115: RuntimeWarning: invalid value encountered in true_divide\n",
            "  f = msb / msw\n",
            "/usr/local/lib/python3.7/dist-packages/sklearn/feature_selection/_univariate_selection.py:114: UserWarning: Features [ 0 32 39 56] are constant.\n",
            "  UserWarning)\n",
            "/usr/local/lib/python3.7/dist-packages/sklearn/feature_selection/_univariate_selection.py:115: RuntimeWarning: invalid value encountered in true_divide\n",
            "  f = msb / msw\n",
            "/usr/local/lib/python3.7/dist-packages/sklearn/feature_selection/_univariate_selection.py:114: UserWarning: Features [ 0 32 39] are constant.\n",
            "  UserWarning)\n",
            "/usr/local/lib/python3.7/dist-packages/sklearn/feature_selection/_univariate_selection.py:115: RuntimeWarning: invalid value encountered in true_divide\n",
            "  f = msb / msw\n",
            "/usr/local/lib/python3.7/dist-packages/sklearn/feature_selection/_univariate_selection.py:114: UserWarning: Features [ 0 24 31 32 39] are constant.\n",
            "  UserWarning)\n",
            "/usr/local/lib/python3.7/dist-packages/sklearn/feature_selection/_univariate_selection.py:115: RuntimeWarning: invalid value encountered in true_divide\n",
            "  f = msb / msw\n",
            "/usr/local/lib/python3.7/dist-packages/sklearn/feature_selection/_univariate_selection.py:114: UserWarning: Features [ 0 32 39] are constant.\n",
            "  UserWarning)\n",
            "/usr/local/lib/python3.7/dist-packages/sklearn/feature_selection/_univariate_selection.py:115: RuntimeWarning: invalid value encountered in true_divide\n",
            "  f = msb / msw\n",
            "/usr/local/lib/python3.7/dist-packages/sklearn/feature_selection/_univariate_selection.py:114: UserWarning: Features [ 0 32 39] are constant.\n",
            "  UserWarning)\n",
            "/usr/local/lib/python3.7/dist-packages/sklearn/feature_selection/_univariate_selection.py:115: RuntimeWarning: invalid value encountered in true_divide\n",
            "  f = msb / msw\n",
            "/usr/local/lib/python3.7/dist-packages/sklearn/feature_selection/_univariate_selection.py:114: UserWarning: Features [ 0 32 39 56] are constant.\n",
            "  UserWarning)\n",
            "/usr/local/lib/python3.7/dist-packages/sklearn/feature_selection/_univariate_selection.py:115: RuntimeWarning: invalid value encountered in true_divide\n",
            "  f = msb / msw\n",
            "/usr/local/lib/python3.7/dist-packages/sklearn/feature_selection/_univariate_selection.py:114: UserWarning: Features [ 0 32 39] are constant.\n",
            "  UserWarning)\n",
            "/usr/local/lib/python3.7/dist-packages/sklearn/feature_selection/_univariate_selection.py:115: RuntimeWarning: invalid value encountered in true_divide\n",
            "  f = msb / msw\n",
            "/usr/local/lib/python3.7/dist-packages/sklearn/feature_selection/_univariate_selection.py:114: UserWarning: Features [ 0 24 31 32 39] are constant.\n",
            "  UserWarning)\n",
            "/usr/local/lib/python3.7/dist-packages/sklearn/feature_selection/_univariate_selection.py:115: RuntimeWarning: invalid value encountered in true_divide\n",
            "  f = msb / msw\n",
            "/usr/local/lib/python3.7/dist-packages/sklearn/feature_selection/_univariate_selection.py:114: UserWarning: Features [ 0 32 39] are constant.\n",
            "  UserWarning)\n",
            "/usr/local/lib/python3.7/dist-packages/sklearn/feature_selection/_univariate_selection.py:115: RuntimeWarning: invalid value encountered in true_divide\n",
            "  f = msb / msw\n",
            "/usr/local/lib/python3.7/dist-packages/sklearn/feature_selection/_univariate_selection.py:114: UserWarning: Features [ 0 32 39] are constant.\n",
            "  UserWarning)\n",
            "/usr/local/lib/python3.7/dist-packages/sklearn/feature_selection/_univariate_selection.py:115: RuntimeWarning: invalid value encountered in true_divide\n",
            "  f = msb / msw\n",
            "/usr/local/lib/python3.7/dist-packages/sklearn/feature_selection/_univariate_selection.py:114: UserWarning: Features [ 0 32 39 56] are constant.\n",
            "  UserWarning)\n",
            "/usr/local/lib/python3.7/dist-packages/sklearn/feature_selection/_univariate_selection.py:115: RuntimeWarning: invalid value encountered in true_divide\n",
            "  f = msb / msw\n",
            "/usr/local/lib/python3.7/dist-packages/sklearn/feature_selection/_univariate_selection.py:114: UserWarning: Features [ 0 32 39] are constant.\n",
            "  UserWarning)\n",
            "/usr/local/lib/python3.7/dist-packages/sklearn/feature_selection/_univariate_selection.py:115: RuntimeWarning: invalid value encountered in true_divide\n",
            "  f = msb / msw\n",
            "/usr/local/lib/python3.7/dist-packages/sklearn/feature_selection/_univariate_selection.py:114: UserWarning: Features [ 0 24 31 32 39] are constant.\n",
            "  UserWarning)\n",
            "/usr/local/lib/python3.7/dist-packages/sklearn/feature_selection/_univariate_selection.py:115: RuntimeWarning: invalid value encountered in true_divide\n",
            "  f = msb / msw\n",
            "/usr/local/lib/python3.7/dist-packages/sklearn/feature_selection/_univariate_selection.py:114: UserWarning: Features [ 0 32 39] are constant.\n",
            "  UserWarning)\n",
            "/usr/local/lib/python3.7/dist-packages/sklearn/feature_selection/_univariate_selection.py:115: RuntimeWarning: invalid value encountered in true_divide\n",
            "  f = msb / msw\n",
            "/usr/local/lib/python3.7/dist-packages/sklearn/feature_selection/_univariate_selection.py:114: UserWarning: Features [ 0 32 39] are constant.\n",
            "  UserWarning)\n",
            "/usr/local/lib/python3.7/dist-packages/sklearn/feature_selection/_univariate_selection.py:115: RuntimeWarning: invalid value encountered in true_divide\n",
            "  f = msb / msw\n",
            "/usr/local/lib/python3.7/dist-packages/sklearn/feature_selection/_univariate_selection.py:114: UserWarning: Features [ 0 32 39 56] are constant.\n",
            "  UserWarning)\n",
            "/usr/local/lib/python3.7/dist-packages/sklearn/feature_selection/_univariate_selection.py:115: RuntimeWarning: invalid value encountered in true_divide\n",
            "  f = msb / msw\n",
            "/usr/local/lib/python3.7/dist-packages/sklearn/feature_selection/_univariate_selection.py:114: UserWarning: Features [ 0 32 39] are constant.\n",
            "  UserWarning)\n",
            "/usr/local/lib/python3.7/dist-packages/sklearn/feature_selection/_univariate_selection.py:115: RuntimeWarning: invalid value encountered in true_divide\n",
            "  f = msb / msw\n",
            "/usr/local/lib/python3.7/dist-packages/sklearn/feature_selection/_univariate_selection.py:114: UserWarning: Features [ 0 24 31 32 39] are constant.\n",
            "  UserWarning)\n",
            "/usr/local/lib/python3.7/dist-packages/sklearn/feature_selection/_univariate_selection.py:115: RuntimeWarning: invalid value encountered in true_divide\n",
            "  f = msb / msw\n",
            "/usr/local/lib/python3.7/dist-packages/sklearn/feature_selection/_univariate_selection.py:114: UserWarning: Features [ 0 32 39] are constant.\n",
            "  UserWarning)\n",
            "/usr/local/lib/python3.7/dist-packages/sklearn/feature_selection/_univariate_selection.py:115: RuntimeWarning: invalid value encountered in true_divide\n",
            "  f = msb / msw\n",
            "/usr/local/lib/python3.7/dist-packages/sklearn/feature_selection/_univariate_selection.py:114: UserWarning: Features [ 0 32 39] are constant.\n",
            "  UserWarning)\n",
            "/usr/local/lib/python3.7/dist-packages/sklearn/feature_selection/_univariate_selection.py:115: RuntimeWarning: invalid value encountered in true_divide\n",
            "  f = msb / msw\n",
            "/usr/local/lib/python3.7/dist-packages/sklearn/feature_selection/_univariate_selection.py:114: UserWarning: Features [ 0 32 39 56] are constant.\n",
            "  UserWarning)\n",
            "/usr/local/lib/python3.7/dist-packages/sklearn/feature_selection/_univariate_selection.py:115: RuntimeWarning: invalid value encountered in true_divide\n",
            "  f = msb / msw\n",
            "/usr/local/lib/python3.7/dist-packages/sklearn/feature_selection/_univariate_selection.py:114: UserWarning: Features [ 0 32 39] are constant.\n",
            "  UserWarning)\n",
            "/usr/local/lib/python3.7/dist-packages/sklearn/feature_selection/_univariate_selection.py:115: RuntimeWarning: invalid value encountered in true_divide\n",
            "  f = msb / msw\n",
            "/usr/local/lib/python3.7/dist-packages/sklearn/feature_selection/_univariate_selection.py:114: UserWarning: Features [ 0 24 31 32 39] are constant.\n",
            "  UserWarning)\n",
            "/usr/local/lib/python3.7/dist-packages/sklearn/feature_selection/_univariate_selection.py:115: RuntimeWarning: invalid value encountered in true_divide\n",
            "  f = msb / msw\n",
            "/usr/local/lib/python3.7/dist-packages/sklearn/feature_selection/_univariate_selection.py:114: UserWarning: Features [ 0 32 39] are constant.\n",
            "  UserWarning)\n",
            "/usr/local/lib/python3.7/dist-packages/sklearn/feature_selection/_univariate_selection.py:115: RuntimeWarning: invalid value encountered in true_divide\n",
            "  f = msb / msw\n",
            "/usr/local/lib/python3.7/dist-packages/sklearn/feature_selection/_univariate_selection.py:114: UserWarning: Features [ 0 32 39] are constant.\n",
            "  UserWarning)\n",
            "/usr/local/lib/python3.7/dist-packages/sklearn/feature_selection/_univariate_selection.py:115: RuntimeWarning: invalid value encountered in true_divide\n",
            "  f = msb / msw\n",
            "/usr/local/lib/python3.7/dist-packages/sklearn/feature_selection/_univariate_selection.py:114: UserWarning: Features [ 0 32 39 56] are constant.\n",
            "  UserWarning)\n",
            "/usr/local/lib/python3.7/dist-packages/sklearn/feature_selection/_univariate_selection.py:115: RuntimeWarning: invalid value encountered in true_divide\n",
            "  f = msb / msw\n",
            "/usr/local/lib/python3.7/dist-packages/sklearn/feature_selection/_univariate_selection.py:114: UserWarning: Features [ 0 32 39] are constant.\n",
            "  UserWarning)\n",
            "/usr/local/lib/python3.7/dist-packages/sklearn/feature_selection/_univariate_selection.py:115: RuntimeWarning: invalid value encountered in true_divide\n",
            "  f = msb / msw\n",
            "/usr/local/lib/python3.7/dist-packages/sklearn/feature_selection/_univariate_selection.py:114: UserWarning: Features [ 0 24 31 32 39] are constant.\n",
            "  UserWarning)\n",
            "/usr/local/lib/python3.7/dist-packages/sklearn/feature_selection/_univariate_selection.py:115: RuntimeWarning: invalid value encountered in true_divide\n",
            "  f = msb / msw\n",
            "/usr/local/lib/python3.7/dist-packages/sklearn/feature_selection/_univariate_selection.py:114: UserWarning: Features [ 0 32 39] are constant.\n",
            "  UserWarning)\n",
            "/usr/local/lib/python3.7/dist-packages/sklearn/feature_selection/_univariate_selection.py:115: RuntimeWarning: invalid value encountered in true_divide\n",
            "  f = msb / msw\n",
            "/usr/local/lib/python3.7/dist-packages/sklearn/feature_selection/_univariate_selection.py:114: UserWarning: Features [ 0 32 39] are constant.\n",
            "  UserWarning)\n",
            "/usr/local/lib/python3.7/dist-packages/sklearn/feature_selection/_univariate_selection.py:115: RuntimeWarning: invalid value encountered in true_divide\n",
            "  f = msb / msw\n",
            "/usr/local/lib/python3.7/dist-packages/sklearn/feature_selection/_univariate_selection.py:114: UserWarning: Features [ 0 32 39 56] are constant.\n",
            "  UserWarning)\n",
            "/usr/local/lib/python3.7/dist-packages/sklearn/feature_selection/_univariate_selection.py:115: RuntimeWarning: invalid value encountered in true_divide\n",
            "  f = msb / msw\n",
            "/usr/local/lib/python3.7/dist-packages/sklearn/feature_selection/_univariate_selection.py:114: UserWarning: Features [ 0 32 39] are constant.\n",
            "  UserWarning)\n",
            "/usr/local/lib/python3.7/dist-packages/sklearn/feature_selection/_univariate_selection.py:115: RuntimeWarning: invalid value encountered in true_divide\n",
            "  f = msb / msw\n",
            "/usr/local/lib/python3.7/dist-packages/sklearn/feature_selection/_univariate_selection.py:114: UserWarning: Features [ 0 24 31 32 39] are constant.\n",
            "  UserWarning)\n",
            "/usr/local/lib/python3.7/dist-packages/sklearn/feature_selection/_univariate_selection.py:115: RuntimeWarning: invalid value encountered in true_divide\n",
            "  f = msb / msw\n",
            "/usr/local/lib/python3.7/dist-packages/sklearn/feature_selection/_univariate_selection.py:114: UserWarning: Features [ 0 32 39] are constant.\n",
            "  UserWarning)\n",
            "/usr/local/lib/python3.7/dist-packages/sklearn/feature_selection/_univariate_selection.py:115: RuntimeWarning: invalid value encountered in true_divide\n",
            "  f = msb / msw\n",
            "/usr/local/lib/python3.7/dist-packages/sklearn/feature_selection/_univariate_selection.py:114: UserWarning: Features [ 0 32 39] are constant.\n",
            "  UserWarning)\n",
            "/usr/local/lib/python3.7/dist-packages/sklearn/feature_selection/_univariate_selection.py:115: RuntimeWarning: invalid value encountered in true_divide\n",
            "  f = msb / msw\n",
            "/usr/local/lib/python3.7/dist-packages/sklearn/feature_selection/_univariate_selection.py:114: UserWarning: Features [ 0 32 39 56] are constant.\n",
            "  UserWarning)\n",
            "/usr/local/lib/python3.7/dist-packages/sklearn/feature_selection/_univariate_selection.py:115: RuntimeWarning: invalid value encountered in true_divide\n",
            "  f = msb / msw\n",
            "/usr/local/lib/python3.7/dist-packages/sklearn/feature_selection/_univariate_selection.py:114: UserWarning: Features [ 0 32 39] are constant.\n",
            "  UserWarning)\n",
            "/usr/local/lib/python3.7/dist-packages/sklearn/feature_selection/_univariate_selection.py:115: RuntimeWarning: invalid value encountered in true_divide\n",
            "  f = msb / msw\n",
            "/usr/local/lib/python3.7/dist-packages/sklearn/feature_selection/_univariate_selection.py:114: UserWarning: Features [ 0 24 31 32 39] are constant.\n",
            "  UserWarning)\n",
            "/usr/local/lib/python3.7/dist-packages/sklearn/feature_selection/_univariate_selection.py:115: RuntimeWarning: invalid value encountered in true_divide\n",
            "  f = msb / msw\n",
            "/usr/local/lib/python3.7/dist-packages/sklearn/feature_selection/_univariate_selection.py:114: UserWarning: Features [ 0 32 39] are constant.\n",
            "  UserWarning)\n",
            "/usr/local/lib/python3.7/dist-packages/sklearn/feature_selection/_univariate_selection.py:115: RuntimeWarning: invalid value encountered in true_divide\n",
            "  f = msb / msw\n",
            "/usr/local/lib/python3.7/dist-packages/sklearn/feature_selection/_univariate_selection.py:114: UserWarning: Features [ 0 32 39] are constant.\n",
            "  UserWarning)\n",
            "/usr/local/lib/python3.7/dist-packages/sklearn/feature_selection/_univariate_selection.py:115: RuntimeWarning: invalid value encountered in true_divide\n",
            "  f = msb / msw\n",
            "/usr/local/lib/python3.7/dist-packages/sklearn/feature_selection/_univariate_selection.py:114: UserWarning: Features [ 0 32 39 56] are constant.\n",
            "  UserWarning)\n",
            "/usr/local/lib/python3.7/dist-packages/sklearn/feature_selection/_univariate_selection.py:115: RuntimeWarning: invalid value encountered in true_divide\n",
            "  f = msb / msw\n",
            "/usr/local/lib/python3.7/dist-packages/sklearn/feature_selection/_univariate_selection.py:114: UserWarning: Features [ 0 32 39] are constant.\n",
            "  UserWarning)\n",
            "/usr/local/lib/python3.7/dist-packages/sklearn/feature_selection/_univariate_selection.py:115: RuntimeWarning: invalid value encountered in true_divide\n",
            "  f = msb / msw\n",
            "/usr/local/lib/python3.7/dist-packages/sklearn/feature_selection/_univariate_selection.py:114: UserWarning: Features [ 0 24 31 32 39] are constant.\n",
            "  UserWarning)\n",
            "/usr/local/lib/python3.7/dist-packages/sklearn/feature_selection/_univariate_selection.py:115: RuntimeWarning: invalid value encountered in true_divide\n",
            "  f = msb / msw\n",
            "/usr/local/lib/python3.7/dist-packages/sklearn/feature_selection/_univariate_selection.py:114: UserWarning: Features [ 0 32 39] are constant.\n",
            "  UserWarning)\n",
            "/usr/local/lib/python3.7/dist-packages/sklearn/feature_selection/_univariate_selection.py:115: RuntimeWarning: invalid value encountered in true_divide\n",
            "  f = msb / msw\n",
            "/usr/local/lib/python3.7/dist-packages/sklearn/feature_selection/_univariate_selection.py:114: UserWarning: Features [ 0 32 39] are constant.\n",
            "  UserWarning)\n",
            "/usr/local/lib/python3.7/dist-packages/sklearn/feature_selection/_univariate_selection.py:115: RuntimeWarning: invalid value encountered in true_divide\n",
            "  f = msb / msw\n",
            "/usr/local/lib/python3.7/dist-packages/sklearn/feature_selection/_univariate_selection.py:114: UserWarning: Features [ 0 32 39 56] are constant.\n",
            "  UserWarning)\n",
            "/usr/local/lib/python3.7/dist-packages/sklearn/feature_selection/_univariate_selection.py:115: RuntimeWarning: invalid value encountered in true_divide\n",
            "  f = msb / msw\n",
            "/usr/local/lib/python3.7/dist-packages/sklearn/feature_selection/_univariate_selection.py:114: UserWarning: Features [ 0 32 39] are constant.\n",
            "  UserWarning)\n",
            "/usr/local/lib/python3.7/dist-packages/sklearn/feature_selection/_univariate_selection.py:115: RuntimeWarning: invalid value encountered in true_divide\n",
            "  f = msb / msw\n",
            "/usr/local/lib/python3.7/dist-packages/sklearn/feature_selection/_univariate_selection.py:114: UserWarning: Features [ 0 24 31 32 39] are constant.\n",
            "  UserWarning)\n",
            "/usr/local/lib/python3.7/dist-packages/sklearn/feature_selection/_univariate_selection.py:115: RuntimeWarning: invalid value encountered in true_divide\n",
            "  f = msb / msw\n",
            "/usr/local/lib/python3.7/dist-packages/sklearn/feature_selection/_univariate_selection.py:114: UserWarning: Features [ 0 32 39] are constant.\n",
            "  UserWarning)\n",
            "/usr/local/lib/python3.7/dist-packages/sklearn/feature_selection/_univariate_selection.py:115: RuntimeWarning: invalid value encountered in true_divide\n",
            "  f = msb / msw\n",
            "/usr/local/lib/python3.7/dist-packages/sklearn/feature_selection/_univariate_selection.py:114: UserWarning: Features [ 0 32 39] are constant.\n",
            "  UserWarning)\n",
            "/usr/local/lib/python3.7/dist-packages/sklearn/feature_selection/_univariate_selection.py:115: RuntimeWarning: invalid value encountered in true_divide\n",
            "  f = msb / msw\n",
            "/usr/local/lib/python3.7/dist-packages/sklearn/feature_selection/_univariate_selection.py:114: UserWarning: Features [ 0 32 39 56] are constant.\n",
            "  UserWarning)\n",
            "/usr/local/lib/python3.7/dist-packages/sklearn/feature_selection/_univariate_selection.py:115: RuntimeWarning: invalid value encountered in true_divide\n",
            "  f = msb / msw\n",
            "/usr/local/lib/python3.7/dist-packages/sklearn/feature_selection/_univariate_selection.py:114: UserWarning: Features [ 0 32 39] are constant.\n",
            "  UserWarning)\n",
            "/usr/local/lib/python3.7/dist-packages/sklearn/feature_selection/_univariate_selection.py:115: RuntimeWarning: invalid value encountered in true_divide\n",
            "  f = msb / msw\n",
            "/usr/local/lib/python3.7/dist-packages/sklearn/feature_selection/_univariate_selection.py:114: UserWarning: Features [ 0 24 31 32 39] are constant.\n",
            "  UserWarning)\n",
            "/usr/local/lib/python3.7/dist-packages/sklearn/feature_selection/_univariate_selection.py:115: RuntimeWarning: invalid value encountered in true_divide\n",
            "  f = msb / msw\n",
            "/usr/local/lib/python3.7/dist-packages/sklearn/feature_selection/_univariate_selection.py:114: UserWarning: Features [ 0 32 39] are constant.\n",
            "  UserWarning)\n",
            "/usr/local/lib/python3.7/dist-packages/sklearn/feature_selection/_univariate_selection.py:115: RuntimeWarning: invalid value encountered in true_divide\n",
            "  f = msb / msw\n",
            "/usr/local/lib/python3.7/dist-packages/sklearn/feature_selection/_univariate_selection.py:114: UserWarning: Features [ 0 32 39] are constant.\n",
            "  UserWarning)\n",
            "/usr/local/lib/python3.7/dist-packages/sklearn/feature_selection/_univariate_selection.py:115: RuntimeWarning: invalid value encountered in true_divide\n",
            "  f = msb / msw\n",
            "/usr/local/lib/python3.7/dist-packages/sklearn/feature_selection/_univariate_selection.py:114: UserWarning: Features [ 0 32 39 56] are constant.\n",
            "  UserWarning)\n",
            "/usr/local/lib/python3.7/dist-packages/sklearn/feature_selection/_univariate_selection.py:115: RuntimeWarning: invalid value encountered in true_divide\n",
            "  f = msb / msw\n",
            "/usr/local/lib/python3.7/dist-packages/sklearn/feature_selection/_univariate_selection.py:114: UserWarning: Features [ 0 32 39] are constant.\n",
            "  UserWarning)\n",
            "/usr/local/lib/python3.7/dist-packages/sklearn/feature_selection/_univariate_selection.py:115: RuntimeWarning: invalid value encountered in true_divide\n",
            "  f = msb / msw\n",
            "/usr/local/lib/python3.7/dist-packages/sklearn/feature_selection/_univariate_selection.py:114: UserWarning: Features [ 0 24 31 32 39] are constant.\n",
            "  UserWarning)\n",
            "/usr/local/lib/python3.7/dist-packages/sklearn/feature_selection/_univariate_selection.py:115: RuntimeWarning: invalid value encountered in true_divide\n",
            "  f = msb / msw\n",
            "/usr/local/lib/python3.7/dist-packages/sklearn/feature_selection/_univariate_selection.py:114: UserWarning: Features [ 0 32 39] are constant.\n",
            "  UserWarning)\n",
            "/usr/local/lib/python3.7/dist-packages/sklearn/feature_selection/_univariate_selection.py:115: RuntimeWarning: invalid value encountered in true_divide\n",
            "  f = msb / msw\n",
            "/usr/local/lib/python3.7/dist-packages/sklearn/feature_selection/_univariate_selection.py:114: UserWarning: Features [ 0 32 39] are constant.\n",
            "  UserWarning)\n",
            "/usr/local/lib/python3.7/dist-packages/sklearn/feature_selection/_univariate_selection.py:115: RuntimeWarning: invalid value encountered in true_divide\n",
            "  f = msb / msw\n"
          ],
          "name": "stderr"
        },
        {
          "output_type": "execute_result",
          "data": {
            "text/plain": [
              "GridSearchCV(cv=None, error_score=nan,\n",
              "             estimator=Pipeline(memory=None,\n",
              "                                steps=[('standardscaler',\n",
              "                                        StandardScaler(copy=True,\n",
              "                                                       with_mean=True,\n",
              "                                                       with_std=True)),\n",
              "                                       ('selectkbest',\n",
              "                                        SelectKBest(k=10,\n",
              "                                                    score_func=<function f_classif at 0x7f541eeaa8c0>)),\n",
              "                                       ('randomforestclassifier',\n",
              "                                        RandomForestClassifier(bootstrap=True,\n",
              "                                                               ccp_alpha=0.0,\n",
              "                                                               class_weight=None,\n",
              "                                                               criterion='gini',\n",
              "                                                               max_dep...\n",
              "                                                               min_weight_fraction_leaf=0.0,\n",
              "                                                               n_estimators=100,\n",
              "                                                               n_jobs=None,\n",
              "                                                               oob_score=False,\n",
              "                                                               random_state=None,\n",
              "                                                               verbose=0,\n",
              "                                                               warm_start=False))],\n",
              "                                verbose=False),\n",
              "             iid='deprecated', n_jobs=None,\n",
              "             param_grid={'randomforestclassifier__max_features': [0.1, 0.25,\n",
              "                                                                  0.5],\n",
              "                         'selectkbest__k': [1, 10, 20, 30, 40, 50]},\n",
              "             pre_dispatch='2*n_jobs', refit=True, return_train_score=False,\n",
              "             scoring=None, verbose=0)"
            ]
          },
          "metadata": {
            "tags": []
          },
          "execution_count": 98
        }
      ]
    },
    {
      "cell_type": "code",
      "metadata": {
        "id": "qjgoFtAHzowm",
        "colab": {
          "base_uri": "https://localhost:8080/"
        },
        "outputId": "7e61a97b-f2f7-4e36-b349-36f7e29c0f88"
      },
      "source": [
        "grid.best_params_"
      ],
      "execution_count": 99,
      "outputs": [
        {
          "output_type": "execute_result",
          "data": {
            "text/plain": [
              "{'randomforestclassifier__max_features': 0.25, 'selectkbest__k': 50}"
            ]
          },
          "metadata": {
            "tags": []
          },
          "execution_count": 99
        }
      ]
    },
    {
      "cell_type": "code",
      "metadata": {
        "id": "Wu3V2sCtzTZW"
      },
      "source": [
        "from sklearn.ensemble import RandomForestClassifier\n",
        "from sklearn.neural_network import MLPClassifier\n",
        "from sklearn.pipeline import make_union\n",
        "from sklearn.decomposition import PCA\n",
        "from sklearn.preprocessing import FunctionTransformer"
      ],
      "execution_count": 102,
      "outputs": []
    },
    {
      "cell_type": "code",
      "metadata": {
        "id": "ezNbhnXezLs6",
        "colab": {
          "base_uri": "https://localhost:8080/"
        },
        "outputId": "3e34c979-bbf8-4307-cb20-b4d44eb44d06"
      },
      "source": [
        "clf = make_pipeline(\n",
        "    #build features\n",
        "    make_union(\n",
        "    \n",
        "    FunctionTransformer(func=lambda X:X),\n",
        "    PCA()\n",
        "),\n",
        "#select best features\n",
        "RFE(RandomForestClassifier(), n_features_to_select=10),\n",
        "MLPClassifier()\n",
        "\n",
        ")\n",
        "\n",
        "clf.fit(X_train, y_train)"
      ],
      "execution_count": 104,
      "outputs": [
        {
          "output_type": "stream",
          "text": [
            "/usr/local/lib/python3.7/dist-packages/sklearn/neural_network/_multilayer_perceptron.py:571: ConvergenceWarning: Stochastic Optimizer: Maximum iterations (200) reached and the optimization hasn't converged yet.\n",
            "  % self.max_iter, ConvergenceWarning)\n"
          ],
          "name": "stderr"
        },
        {
          "output_type": "execute_result",
          "data": {
            "text/plain": [
              "Pipeline(memory=None,\n",
              "         steps=[('featureunion',\n",
              "                 FeatureUnion(n_jobs=None,\n",
              "                              transformer_list=[('functiontransformer',\n",
              "                                                 FunctionTransformer(accept_sparse=False,\n",
              "                                                                     check_inverse=True,\n",
              "                                                                     func=<function <lambda> at 0x7f541acbc3b0>,\n",
              "                                                                     inv_kw_args=None,\n",
              "                                                                     inverse_func=None,\n",
              "                                                                     kw_args=None,\n",
              "                                                                     validate=False)),\n",
              "                                                ('pca',\n",
              "                                                 PCA(copy=True,\n",
              "                                                     iterated_power='auto',\n",
              "                                                     n_components=None,\n",
              "                                                     random_state=No...\n",
              "                               batch_size='auto', beta_1=0.9, beta_2=0.999,\n",
              "                               early_stopping=False, epsilon=1e-08,\n",
              "                               hidden_layer_sizes=(100,),\n",
              "                               learning_rate='constant',\n",
              "                               learning_rate_init=0.001, max_fun=15000,\n",
              "                               max_iter=200, momentum=0.9, n_iter_no_change=10,\n",
              "                               nesterovs_momentum=True, power_t=0.5,\n",
              "                               random_state=None, shuffle=True, solver='adam',\n",
              "                               tol=0.0001, validation_fraction=0.1,\n",
              "                               verbose=False, warm_start=False))],\n",
              "         verbose=False)"
            ]
          },
          "metadata": {
            "tags": []
          },
          "execution_count": 104
        }
      ]
    },
    {
      "cell_type": "code",
      "metadata": {
        "id": "0xZpp6F3zDPK"
      },
      "source": [
        ""
      ],
      "execution_count": 69,
      "outputs": []
    },
    {
      "cell_type": "code",
      "metadata": {
        "id": "rE3k1HuEyd2X"
      },
      "source": [
        ""
      ],
      "execution_count": 69,
      "outputs": []
    },
    {
      "cell_type": "code",
      "metadata": {
        "id": "0_Rh1-_swvFt"
      },
      "source": [
        ""
      ],
      "execution_count": 69,
      "outputs": []
    },
    {
      "cell_type": "code",
      "metadata": {
        "id": "Kspl-WD8tFzu"
      },
      "source": [
        ""
      ],
      "execution_count": 69,
      "outputs": []
    },
    {
      "cell_type": "code",
      "metadata": {
        "id": "gjWgzzSapdLR"
      },
      "source": [
        ""
      ],
      "execution_count": 69,
      "outputs": []
    },
    {
      "cell_type": "code",
      "metadata": {
        "id": "Q4uz7lQdpaLq"
      },
      "source": [
        ""
      ],
      "execution_count": 69,
      "outputs": []
    },
    {
      "cell_type": "code",
      "metadata": {
        "id": "UMswGZJhpYqa"
      },
      "source": [
        ""
      ],
      "execution_count": 69,
      "outputs": []
    },
    {
      "cell_type": "code",
      "metadata": {
        "id": "ltpC-BZxoyDx"
      },
      "source": [
        ""
      ],
      "execution_count": 69,
      "outputs": []
    }
  ]
}